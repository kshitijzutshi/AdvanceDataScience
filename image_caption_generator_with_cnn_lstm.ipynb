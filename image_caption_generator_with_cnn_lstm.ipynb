{
  "metadata": {
    "kernelspec": {
      "language": "python",
      "display_name": "Python 3",
      "name": "python3"
    },
    "language_info": {
      "pygments_lexer": "ipython3",
      "nbconvert_exporter": "python",
      "version": "3.6.4",
      "file_extension": ".py",
      "codemirror_mode": {
        "name": "ipython",
        "version": 3
      },
      "name": "python",
      "mimetype": "text/x-python"
    },
    "colab": {
      "name": "image-caption-generator-with-cnn-lstm.ipynb",
      "provenance": [],
      "include_colab_link": true
    },
    "widgets": {
      "application/vnd.jupyter.widget-state+json": {
        "76f7fe25abd6414799852690d6759a2c": {
          "model_module": "@jupyter-widgets/controls",
          "model_name": "HBoxModel",
          "model_module_version": "1.5.0",
          "state": {
            "_dom_classes": [],
            "_model_module": "@jupyter-widgets/controls",
            "_model_module_version": "1.5.0",
            "_model_name": "HBoxModel",
            "_view_count": null,
            "_view_module": "@jupyter-widgets/controls",
            "_view_module_version": "1.5.0",
            "_view_name": "HBoxView",
            "box_style": "",
            "children": [
              "IPY_MODEL_9771d45a71d84ffbba1797fbf8133ba9",
              "IPY_MODEL_c369dcce712842ba9e703f81b0e1eef0",
              "IPY_MODEL_7506484644ec49bfb773e1c505566e16"
            ],
            "layout": "IPY_MODEL_feadb55182bc43c68a8cc701e7d580d9"
          }
        },
        "9771d45a71d84ffbba1797fbf8133ba9": {
          "model_module": "@jupyter-widgets/controls",
          "model_name": "HTMLModel",
          "model_module_version": "1.5.0",
          "state": {
            "_dom_classes": [],
            "_model_module": "@jupyter-widgets/controls",
            "_model_module_version": "1.5.0",
            "_model_name": "HTMLModel",
            "_view_count": null,
            "_view_module": "@jupyter-widgets/controls",
            "_view_module_version": "1.5.0",
            "_view_name": "HTMLView",
            "description": "",
            "description_tooltip": null,
            "layout": "IPY_MODEL_12a570a4373b4cfd852b28495637d64d",
            "placeholder": "​",
            "style": "IPY_MODEL_5058171cdc524617add93f8c0f2bf49a",
            "value": "100%"
          }
        },
        "c369dcce712842ba9e703f81b0e1eef0": {
          "model_module": "@jupyter-widgets/controls",
          "model_name": "FloatProgressModel",
          "model_module_version": "1.5.0",
          "state": {
            "_dom_classes": [],
            "_model_module": "@jupyter-widgets/controls",
            "_model_module_version": "1.5.0",
            "_model_name": "FloatProgressModel",
            "_view_count": null,
            "_view_module": "@jupyter-widgets/controls",
            "_view_module_version": "1.5.0",
            "_view_name": "ProgressView",
            "bar_style": "success",
            "description": "",
            "description_tooltip": null,
            "layout": "IPY_MODEL_53401fa970d04357b429696a2feaa7f7",
            "max": 40456,
            "min": 0,
            "orientation": "horizontal",
            "style": "IPY_MODEL_117a80e7b6a0499f9c735948c30d8daa",
            "value": 40456
          }
        },
        "7506484644ec49bfb773e1c505566e16": {
          "model_module": "@jupyter-widgets/controls",
          "model_name": "HTMLModel",
          "model_module_version": "1.5.0",
          "state": {
            "_dom_classes": [],
            "_model_module": "@jupyter-widgets/controls",
            "_model_module_version": "1.5.0",
            "_model_name": "HTMLModel",
            "_view_count": null,
            "_view_module": "@jupyter-widgets/controls",
            "_view_module_version": "1.5.0",
            "_view_name": "HTMLView",
            "description": "",
            "description_tooltip": null,
            "layout": "IPY_MODEL_e74256fcea3345fc9692d589b518f934",
            "placeholder": "​",
            "style": "IPY_MODEL_4a425a31ed914cbb802906901e6d404f",
            "value": " 40456/40456 [00:00&lt;00:00, 145793.49it/s]"
          }
        },
        "feadb55182bc43c68a8cc701e7d580d9": {
          "model_module": "@jupyter-widgets/base",
          "model_name": "LayoutModel",
          "model_module_version": "1.2.0",
          "state": {
            "_model_module": "@jupyter-widgets/base",
            "_model_module_version": "1.2.0",
            "_model_name": "LayoutModel",
            "_view_count": null,
            "_view_module": "@jupyter-widgets/base",
            "_view_module_version": "1.2.0",
            "_view_name": "LayoutView",
            "align_content": null,
            "align_items": null,
            "align_self": null,
            "border": null,
            "bottom": null,
            "display": null,
            "flex": null,
            "flex_flow": null,
            "grid_area": null,
            "grid_auto_columns": null,
            "grid_auto_flow": null,
            "grid_auto_rows": null,
            "grid_column": null,
            "grid_gap": null,
            "grid_row": null,
            "grid_template_areas": null,
            "grid_template_columns": null,
            "grid_template_rows": null,
            "height": null,
            "justify_content": null,
            "justify_items": null,
            "left": null,
            "margin": null,
            "max_height": null,
            "max_width": null,
            "min_height": null,
            "min_width": null,
            "object_fit": null,
            "object_position": null,
            "order": null,
            "overflow": null,
            "overflow_x": null,
            "overflow_y": null,
            "padding": null,
            "right": null,
            "top": null,
            "visibility": null,
            "width": null
          }
        },
        "12a570a4373b4cfd852b28495637d64d": {
          "model_module": "@jupyter-widgets/base",
          "model_name": "LayoutModel",
          "model_module_version": "1.2.0",
          "state": {
            "_model_module": "@jupyter-widgets/base",
            "_model_module_version": "1.2.0",
            "_model_name": "LayoutModel",
            "_view_count": null,
            "_view_module": "@jupyter-widgets/base",
            "_view_module_version": "1.2.0",
            "_view_name": "LayoutView",
            "align_content": null,
            "align_items": null,
            "align_self": null,
            "border": null,
            "bottom": null,
            "display": null,
            "flex": null,
            "flex_flow": null,
            "grid_area": null,
            "grid_auto_columns": null,
            "grid_auto_flow": null,
            "grid_auto_rows": null,
            "grid_column": null,
            "grid_gap": null,
            "grid_row": null,
            "grid_template_areas": null,
            "grid_template_columns": null,
            "grid_template_rows": null,
            "height": null,
            "justify_content": null,
            "justify_items": null,
            "left": null,
            "margin": null,
            "max_height": null,
            "max_width": null,
            "min_height": null,
            "min_width": null,
            "object_fit": null,
            "object_position": null,
            "order": null,
            "overflow": null,
            "overflow_x": null,
            "overflow_y": null,
            "padding": null,
            "right": null,
            "top": null,
            "visibility": null,
            "width": null
          }
        },
        "5058171cdc524617add93f8c0f2bf49a": {
          "model_module": "@jupyter-widgets/controls",
          "model_name": "DescriptionStyleModel",
          "model_module_version": "1.5.0",
          "state": {
            "_model_module": "@jupyter-widgets/controls",
            "_model_module_version": "1.5.0",
            "_model_name": "DescriptionStyleModel",
            "_view_count": null,
            "_view_module": "@jupyter-widgets/base",
            "_view_module_version": "1.2.0",
            "_view_name": "StyleView",
            "description_width": ""
          }
        },
        "53401fa970d04357b429696a2feaa7f7": {
          "model_module": "@jupyter-widgets/base",
          "model_name": "LayoutModel",
          "model_module_version": "1.2.0",
          "state": {
            "_model_module": "@jupyter-widgets/base",
            "_model_module_version": "1.2.0",
            "_model_name": "LayoutModel",
            "_view_count": null,
            "_view_module": "@jupyter-widgets/base",
            "_view_module_version": "1.2.0",
            "_view_name": "LayoutView",
            "align_content": null,
            "align_items": null,
            "align_self": null,
            "border": null,
            "bottom": null,
            "display": null,
            "flex": null,
            "flex_flow": null,
            "grid_area": null,
            "grid_auto_columns": null,
            "grid_auto_flow": null,
            "grid_auto_rows": null,
            "grid_column": null,
            "grid_gap": null,
            "grid_row": null,
            "grid_template_areas": null,
            "grid_template_columns": null,
            "grid_template_rows": null,
            "height": null,
            "justify_content": null,
            "justify_items": null,
            "left": null,
            "margin": null,
            "max_height": null,
            "max_width": null,
            "min_height": null,
            "min_width": null,
            "object_fit": null,
            "object_position": null,
            "order": null,
            "overflow": null,
            "overflow_x": null,
            "overflow_y": null,
            "padding": null,
            "right": null,
            "top": null,
            "visibility": null,
            "width": null
          }
        },
        "117a80e7b6a0499f9c735948c30d8daa": {
          "model_module": "@jupyter-widgets/controls",
          "model_name": "ProgressStyleModel",
          "model_module_version": "1.5.0",
          "state": {
            "_model_module": "@jupyter-widgets/controls",
            "_model_module_version": "1.5.0",
            "_model_name": "ProgressStyleModel",
            "_view_count": null,
            "_view_module": "@jupyter-widgets/base",
            "_view_module_version": "1.2.0",
            "_view_name": "StyleView",
            "bar_color": null,
            "description_width": ""
          }
        },
        "e74256fcea3345fc9692d589b518f934": {
          "model_module": "@jupyter-widgets/base",
          "model_name": "LayoutModel",
          "model_module_version": "1.2.0",
          "state": {
            "_model_module": "@jupyter-widgets/base",
            "_model_module_version": "1.2.0",
            "_model_name": "LayoutModel",
            "_view_count": null,
            "_view_module": "@jupyter-widgets/base",
            "_view_module_version": "1.2.0",
            "_view_name": "LayoutView",
            "align_content": null,
            "align_items": null,
            "align_self": null,
            "border": null,
            "bottom": null,
            "display": null,
            "flex": null,
            "flex_flow": null,
            "grid_area": null,
            "grid_auto_columns": null,
            "grid_auto_flow": null,
            "grid_auto_rows": null,
            "grid_column": null,
            "grid_gap": null,
            "grid_row": null,
            "grid_template_areas": null,
            "grid_template_columns": null,
            "grid_template_rows": null,
            "height": null,
            "justify_content": null,
            "justify_items": null,
            "left": null,
            "margin": null,
            "max_height": null,
            "max_width": null,
            "min_height": null,
            "min_width": null,
            "object_fit": null,
            "object_position": null,
            "order": null,
            "overflow": null,
            "overflow_x": null,
            "overflow_y": null,
            "padding": null,
            "right": null,
            "top": null,
            "visibility": null,
            "width": null
          }
        },
        "4a425a31ed914cbb802906901e6d404f": {
          "model_module": "@jupyter-widgets/controls",
          "model_name": "DescriptionStyleModel",
          "model_module_version": "1.5.0",
          "state": {
            "_model_module": "@jupyter-widgets/controls",
            "_model_module_version": "1.5.0",
            "_model_name": "DescriptionStyleModel",
            "_view_count": null,
            "_view_module": "@jupyter-widgets/base",
            "_view_module_version": "1.2.0",
            "_view_name": "StyleView",
            "description_width": ""
          }
        },
        "6468e630af184fd99e45308b2cefe875": {
          "model_module": "@jupyter-widgets/controls",
          "model_name": "HBoxModel",
          "model_module_version": "1.5.0",
          "state": {
            "_dom_classes": [],
            "_model_module": "@jupyter-widgets/controls",
            "_model_module_version": "1.5.0",
            "_model_name": "HBoxModel",
            "_view_count": null,
            "_view_module": "@jupyter-widgets/controls",
            "_view_module_version": "1.5.0",
            "_view_name": "HBoxView",
            "box_style": "",
            "children": [
              "IPY_MODEL_cb7de96e29de489b9164d8ef47fc180e",
              "IPY_MODEL_09205911cacf418db6157e83c665a34c",
              "IPY_MODEL_2a1914dfad35442e9a222195749cfed9"
            ],
            "layout": "IPY_MODEL_6a5a540551b2416fb92ed69c300873ca"
          }
        },
        "cb7de96e29de489b9164d8ef47fc180e": {
          "model_module": "@jupyter-widgets/controls",
          "model_name": "HTMLModel",
          "model_module_version": "1.5.0",
          "state": {
            "_dom_classes": [],
            "_model_module": "@jupyter-widgets/controls",
            "_model_module_version": "1.5.0",
            "_model_name": "HTMLModel",
            "_view_count": null,
            "_view_module": "@jupyter-widgets/controls",
            "_view_module_version": "1.5.0",
            "_view_name": "HTMLView",
            "description": "",
            "description_tooltip": null,
            "layout": "IPY_MODEL_ab83600029ca4a43bb333880f32e2d14",
            "placeholder": "​",
            "style": "IPY_MODEL_8eb364d5a94e4779a8e978b0b97a52c0",
            "value": "100%"
          }
        },
        "09205911cacf418db6157e83c665a34c": {
          "model_module": "@jupyter-widgets/controls",
          "model_name": "FloatProgressModel",
          "model_module_version": "1.5.0",
          "state": {
            "_dom_classes": [],
            "_model_module": "@jupyter-widgets/controls",
            "_model_module_version": "1.5.0",
            "_model_name": "FloatProgressModel",
            "_view_count": null,
            "_view_module": "@jupyter-widgets/controls",
            "_view_module_version": "1.5.0",
            "_view_name": "ProgressView",
            "bar_style": "success",
            "description": "",
            "description_tooltip": null,
            "layout": "IPY_MODEL_1656de3eb34d429ead4fa0f9ea4335ee",
            "max": 810,
            "min": 0,
            "orientation": "horizontal",
            "style": "IPY_MODEL_c918933f5cf34476bd9802fd50ab4828",
            "value": 810
          }
        },
        "2a1914dfad35442e9a222195749cfed9": {
          "model_module": "@jupyter-widgets/controls",
          "model_name": "HTMLModel",
          "model_module_version": "1.5.0",
          "state": {
            "_dom_classes": [],
            "_model_module": "@jupyter-widgets/controls",
            "_model_module_version": "1.5.0",
            "_model_name": "HTMLModel",
            "_view_count": null,
            "_view_module": "@jupyter-widgets/controls",
            "_view_module_version": "1.5.0",
            "_view_name": "HTMLView",
            "description": "",
            "description_tooltip": null,
            "layout": "IPY_MODEL_94a4c0c2e49b41f89fa545a6cb64f7a3",
            "placeholder": "​",
            "style": "IPY_MODEL_d3997968c0034a2c987f4861539e4c25",
            "value": " 810/810 [09:10&lt;00:00,  1.46it/s]"
          }
        },
        "6a5a540551b2416fb92ed69c300873ca": {
          "model_module": "@jupyter-widgets/base",
          "model_name": "LayoutModel",
          "model_module_version": "1.2.0",
          "state": {
            "_model_module": "@jupyter-widgets/base",
            "_model_module_version": "1.2.0",
            "_model_name": "LayoutModel",
            "_view_count": null,
            "_view_module": "@jupyter-widgets/base",
            "_view_module_version": "1.2.0",
            "_view_name": "LayoutView",
            "align_content": null,
            "align_items": null,
            "align_self": null,
            "border": null,
            "bottom": null,
            "display": null,
            "flex": null,
            "flex_flow": null,
            "grid_area": null,
            "grid_auto_columns": null,
            "grid_auto_flow": null,
            "grid_auto_rows": null,
            "grid_column": null,
            "grid_gap": null,
            "grid_row": null,
            "grid_template_areas": null,
            "grid_template_columns": null,
            "grid_template_rows": null,
            "height": null,
            "justify_content": null,
            "justify_items": null,
            "left": null,
            "margin": null,
            "max_height": null,
            "max_width": null,
            "min_height": null,
            "min_width": null,
            "object_fit": null,
            "object_position": null,
            "order": null,
            "overflow": null,
            "overflow_x": null,
            "overflow_y": null,
            "padding": null,
            "right": null,
            "top": null,
            "visibility": null,
            "width": null
          }
        },
        "ab83600029ca4a43bb333880f32e2d14": {
          "model_module": "@jupyter-widgets/base",
          "model_name": "LayoutModel",
          "model_module_version": "1.2.0",
          "state": {
            "_model_module": "@jupyter-widgets/base",
            "_model_module_version": "1.2.0",
            "_model_name": "LayoutModel",
            "_view_count": null,
            "_view_module": "@jupyter-widgets/base",
            "_view_module_version": "1.2.0",
            "_view_name": "LayoutView",
            "align_content": null,
            "align_items": null,
            "align_self": null,
            "border": null,
            "bottom": null,
            "display": null,
            "flex": null,
            "flex_flow": null,
            "grid_area": null,
            "grid_auto_columns": null,
            "grid_auto_flow": null,
            "grid_auto_rows": null,
            "grid_column": null,
            "grid_gap": null,
            "grid_row": null,
            "grid_template_areas": null,
            "grid_template_columns": null,
            "grid_template_rows": null,
            "height": null,
            "justify_content": null,
            "justify_items": null,
            "left": null,
            "margin": null,
            "max_height": null,
            "max_width": null,
            "min_height": null,
            "min_width": null,
            "object_fit": null,
            "object_position": null,
            "order": null,
            "overflow": null,
            "overflow_x": null,
            "overflow_y": null,
            "padding": null,
            "right": null,
            "top": null,
            "visibility": null,
            "width": null
          }
        },
        "8eb364d5a94e4779a8e978b0b97a52c0": {
          "model_module": "@jupyter-widgets/controls",
          "model_name": "DescriptionStyleModel",
          "model_module_version": "1.5.0",
          "state": {
            "_model_module": "@jupyter-widgets/controls",
            "_model_module_version": "1.5.0",
            "_model_name": "DescriptionStyleModel",
            "_view_count": null,
            "_view_module": "@jupyter-widgets/base",
            "_view_module_version": "1.2.0",
            "_view_name": "StyleView",
            "description_width": ""
          }
        },
        "1656de3eb34d429ead4fa0f9ea4335ee": {
          "model_module": "@jupyter-widgets/base",
          "model_name": "LayoutModel",
          "model_module_version": "1.2.0",
          "state": {
            "_model_module": "@jupyter-widgets/base",
            "_model_module_version": "1.2.0",
            "_model_name": "LayoutModel",
            "_view_count": null,
            "_view_module": "@jupyter-widgets/base",
            "_view_module_version": "1.2.0",
            "_view_name": "LayoutView",
            "align_content": null,
            "align_items": null,
            "align_self": null,
            "border": null,
            "bottom": null,
            "display": null,
            "flex": null,
            "flex_flow": null,
            "grid_area": null,
            "grid_auto_columns": null,
            "grid_auto_flow": null,
            "grid_auto_rows": null,
            "grid_column": null,
            "grid_gap": null,
            "grid_row": null,
            "grid_template_areas": null,
            "grid_template_columns": null,
            "grid_template_rows": null,
            "height": null,
            "justify_content": null,
            "justify_items": null,
            "left": null,
            "margin": null,
            "max_height": null,
            "max_width": null,
            "min_height": null,
            "min_width": null,
            "object_fit": null,
            "object_position": null,
            "order": null,
            "overflow": null,
            "overflow_x": null,
            "overflow_y": null,
            "padding": null,
            "right": null,
            "top": null,
            "visibility": null,
            "width": null
          }
        },
        "c918933f5cf34476bd9802fd50ab4828": {
          "model_module": "@jupyter-widgets/controls",
          "model_name": "ProgressStyleModel",
          "model_module_version": "1.5.0",
          "state": {
            "_model_module": "@jupyter-widgets/controls",
            "_model_module_version": "1.5.0",
            "_model_name": "ProgressStyleModel",
            "_view_count": null,
            "_view_module": "@jupyter-widgets/base",
            "_view_module_version": "1.2.0",
            "_view_name": "StyleView",
            "bar_color": null,
            "description_width": ""
          }
        },
        "94a4c0c2e49b41f89fa545a6cb64f7a3": {
          "model_module": "@jupyter-widgets/base",
          "model_name": "LayoutModel",
          "model_module_version": "1.2.0",
          "state": {
            "_model_module": "@jupyter-widgets/base",
            "_model_module_version": "1.2.0",
            "_model_name": "LayoutModel",
            "_view_count": null,
            "_view_module": "@jupyter-widgets/base",
            "_view_module_version": "1.2.0",
            "_view_name": "LayoutView",
            "align_content": null,
            "align_items": null,
            "align_self": null,
            "border": null,
            "bottom": null,
            "display": null,
            "flex": null,
            "flex_flow": null,
            "grid_area": null,
            "grid_auto_columns": null,
            "grid_auto_flow": null,
            "grid_auto_rows": null,
            "grid_column": null,
            "grid_gap": null,
            "grid_row": null,
            "grid_template_areas": null,
            "grid_template_columns": null,
            "grid_template_rows": null,
            "height": null,
            "justify_content": null,
            "justify_items": null,
            "left": null,
            "margin": null,
            "max_height": null,
            "max_width": null,
            "min_height": null,
            "min_width": null,
            "object_fit": null,
            "object_position": null,
            "order": null,
            "overflow": null,
            "overflow_x": null,
            "overflow_y": null,
            "padding": null,
            "right": null,
            "top": null,
            "visibility": null,
            "width": null
          }
        },
        "d3997968c0034a2c987f4861539e4c25": {
          "model_module": "@jupyter-widgets/controls",
          "model_name": "DescriptionStyleModel",
          "model_module_version": "1.5.0",
          "state": {
            "_model_module": "@jupyter-widgets/controls",
            "_model_module_version": "1.5.0",
            "_model_name": "DescriptionStyleModel",
            "_view_count": null,
            "_view_module": "@jupyter-widgets/base",
            "_view_module_version": "1.2.0",
            "_view_name": "StyleView",
            "description_width": ""
          }
        }
      }
    },
    "accelerator": "GPU"
  },
  "nbformat_minor": 0,
  "nbformat": 4,
  "cells": [
    {
      "cell_type": "markdown",
      "metadata": {
        "id": "view-in-github",
        "colab_type": "text"
      },
      "source": [
        "<a href=\"https://colab.research.google.com/github/shahparth0007/AdvanceDataScience/blob/main/image_caption_generator_with_cnn_lstm.ipynb\" target=\"_parent\"><img src=\"https://colab.research.google.com/assets/colab-badge.svg\" alt=\"Open In Colab\"/></a>"
      ]
    },
    {
      "cell_type": "code",
      "source": [
        "import os\n",
        "import pickle\n",
        "import numpy as np\n",
        "from tqdm.notebook import tqdm\n",
        "import numpy as np # linear algebra\n",
        "import pandas as pd # data processing, CSV file I/O (e.g. pd.read_csv)\n",
        "import os\n",
        "\n",
        "from tensorflow.keras.applications.vgg19 import VGG19, preprocess_input\n",
        "from tensorflow.keras.preprocessing.image import load_img, img_to_array\n",
        "from tensorflow.keras.preprocessing.text import Tokenizer\n",
        "from tensorflow.keras.preprocessing.sequence import pad_sequences\n",
        "from tensorflow.keras.models import Model\n",
        "from tensorflow.keras.utils import to_categorical, plot_model\n",
        "from tensorflow.keras.layers import Input, Dense, LSTM, Embedding, Dropout, add"
      ],
      "metadata": {
        "execution": {
          "iopub.status.busy": "2022-04-19T23:53:53.229069Z",
          "iopub.execute_input": "2022-04-19T23:53:53.22968Z",
          "iopub.status.idle": "2022-04-19T23:53:58.177507Z",
          "shell.execute_reply.started": "2022-04-19T23:53:53.229627Z",
          "shell.execute_reply": "2022-04-19T23:53:58.176688Z"
        },
        "trusted": true,
        "id": "fM4JHpieji4J"
      },
      "execution_count": 6,
      "outputs": []
    },
    {
      "cell_type": "code",
      "source": [
        "!gdown --id 1jXH8vzpVy4gAkc-1lrWlwVUNF4w0B0dU\n",
        "!pip install kaggle\n",
        "! mkdir ~/.kaggle\n",
        "! cp kaggle.json ~/.kaggle/\n",
        "! chmod 600 ~/.kaggle/kaggle.json\n",
        "! kaggle datasets download parthshah0007/flickerdataset\n",
        "! unzip -q '/content/flickerdataset.zip' -d '/content/flickr8k/'"
      ],
      "metadata": {
        "id": "HyAqjKs1olWa",
        "colab": {
          "base_uri": "https://localhost:8080/"
        },
        "outputId": "1e4bbe6e-7bee-416b-a5bf-9aa7a43e4703"
      },
      "execution_count": 7,
      "outputs": [
        {
          "output_type": "stream",
          "name": "stdout",
          "text": [
            "/usr/local/lib/python3.7/dist-packages/gdown/cli.py:131: FutureWarning: Option `--id` was deprecated in version 4.3.1 and will be removed in 5.0. You don't need to pass it anymore to use a file ID.\n",
            "  category=FutureWarning,\n",
            "Downloading...\n",
            "From: https://drive.google.com/uc?id=1jXH8vzpVy4gAkc-1lrWlwVUNF4w0B0dU\n",
            "To: /content/kaggle.json\n",
            "100% 69.0/69.0 [00:00<00:00, 119kB/s]\n",
            "Requirement already satisfied: kaggle in /usr/local/lib/python3.7/dist-packages (1.5.12)\n",
            "Requirement already satisfied: six>=1.10 in /usr/local/lib/python3.7/dist-packages (from kaggle) (1.15.0)\n",
            "Requirement already satisfied: requests in /usr/local/lib/python3.7/dist-packages (from kaggle) (2.23.0)\n",
            "Requirement already satisfied: certifi in /usr/local/lib/python3.7/dist-packages (from kaggle) (2021.10.8)\n",
            "Requirement already satisfied: tqdm in /usr/local/lib/python3.7/dist-packages (from kaggle) (4.64.0)\n",
            "Requirement already satisfied: python-slugify in /usr/local/lib/python3.7/dist-packages (from kaggle) (6.1.1)\n",
            "Requirement already satisfied: urllib3 in /usr/local/lib/python3.7/dist-packages (from kaggle) (1.24.3)\n",
            "Requirement already satisfied: python-dateutil in /usr/local/lib/python3.7/dist-packages (from kaggle) (2.8.2)\n",
            "Requirement already satisfied: text-unidecode>=1.3 in /usr/local/lib/python3.7/dist-packages (from python-slugify->kaggle) (1.3)\n",
            "Requirement already satisfied: idna<3,>=2.5 in /usr/local/lib/python3.7/dist-packages (from requests->kaggle) (2.10)\n",
            "Requirement already satisfied: chardet<4,>=3.0.2 in /usr/local/lib/python3.7/dist-packages (from requests->kaggle) (3.0.4)\n",
            "mkdir: cannot create directory ‘/root/.kaggle’: File exists\n",
            "flickerdataset.zip: Skipping, found more recently modified local copy (use --force to force download)\n",
            "replace /content/flickr8k/FlickerAllData/Data/Images/1000268201_693b08cb0e.jpg? [y]es, [n]o, [A]ll, [N]one, [r]ename: n\n",
            "replace /content/flickr8k/FlickerAllData/Data/Images/1001773457_577c3a7d70.jpg? [y]es, [n]o, [A]ll, [N]one, [r]ename: A\n",
            "A\n",
            "A\n"
          ]
        }
      ]
    },
    {
      "cell_type": "code",
      "source": [
        "BASE_DIR = '/content/flickr8k/FlickerAllData/Data/'\n",
        "WORKING_DIR = '/content/flickr8k/FlickerAllData/'"
      ],
      "metadata": {
        "execution": {
          "iopub.status.busy": "2022-04-19T23:53:58.186662Z",
          "iopub.execute_input": "2022-04-19T23:53:58.18708Z",
          "iopub.status.idle": "2022-04-19T23:53:58.198141Z",
          "shell.execute_reply.started": "2022-04-19T23:53:58.187043Z",
          "shell.execute_reply": "2022-04-19T23:53:58.197156Z"
        },
        "trusted": true,
        "id": "FqxE6nPyji4K"
      },
      "execution_count": 8,
      "outputs": []
    },
    {
      "cell_type": "code",
      "source": [
        "# load vgg19 model\n",
        "model = VGG19()\n",
        "# restructure the model\n",
        "model = Model(inputs=model.inputs, outputs=model.layers[-2].output)\n",
        "# summarize\n",
        "print(model.summary())"
      ],
      "metadata": {
        "execution": {
          "iopub.status.busy": "2022-04-19T22:28:44.433752Z",
          "iopub.execute_input": "2022-04-19T22:28:44.434651Z",
          "iopub.status.idle": "2022-04-19T22:28:51.016823Z",
          "shell.execute_reply.started": "2022-04-19T22:28:44.434611Z",
          "shell.execute_reply": "2022-04-19T22:28:51.016094Z"
        },
        "trusted": true,
        "id": "GQpIkjsrji4K",
        "colab": {
          "base_uri": "https://localhost:8080/"
        },
        "outputId": "c97e8c04-d649-48d6-9b93-55d1f6b8bf3a"
      },
      "execution_count": 9,
      "outputs": [
        {
          "output_type": "stream",
          "name": "stdout",
          "text": [
            "Model: \"model_1\"\n",
            "_________________________________________________________________\n",
            " Layer (type)                Output Shape              Param #   \n",
            "=================================================================\n",
            " input_2 (InputLayer)        [(None, 224, 224, 3)]     0         \n",
            "                                                                 \n",
            " block1_conv1 (Conv2D)       (None, 224, 224, 64)      1792      \n",
            "                                                                 \n",
            " block1_conv2 (Conv2D)       (None, 224, 224, 64)      36928     \n",
            "                                                                 \n",
            " block1_pool (MaxPooling2D)  (None, 112, 112, 64)      0         \n",
            "                                                                 \n",
            " block2_conv1 (Conv2D)       (None, 112, 112, 128)     73856     \n",
            "                                                                 \n",
            " block2_conv2 (Conv2D)       (None, 112, 112, 128)     147584    \n",
            "                                                                 \n",
            " block2_pool (MaxPooling2D)  (None, 56, 56, 128)       0         \n",
            "                                                                 \n",
            " block3_conv1 (Conv2D)       (None, 56, 56, 256)       295168    \n",
            "                                                                 \n",
            " block3_conv2 (Conv2D)       (None, 56, 56, 256)       590080    \n",
            "                                                                 \n",
            " block3_conv3 (Conv2D)       (None, 56, 56, 256)       590080    \n",
            "                                                                 \n",
            " block3_conv4 (Conv2D)       (None, 56, 56, 256)       590080    \n",
            "                                                                 \n",
            " block3_pool (MaxPooling2D)  (None, 28, 28, 256)       0         \n",
            "                                                                 \n",
            " block4_conv1 (Conv2D)       (None, 28, 28, 512)       1180160   \n",
            "                                                                 \n",
            " block4_conv2 (Conv2D)       (None, 28, 28, 512)       2359808   \n",
            "                                                                 \n",
            " block4_conv3 (Conv2D)       (None, 28, 28, 512)       2359808   \n",
            "                                                                 \n",
            " block4_conv4 (Conv2D)       (None, 28, 28, 512)       2359808   \n",
            "                                                                 \n",
            " block4_pool (MaxPooling2D)  (None, 14, 14, 512)       0         \n",
            "                                                                 \n",
            " block5_conv1 (Conv2D)       (None, 14, 14, 512)       2359808   \n",
            "                                                                 \n",
            " block5_conv2 (Conv2D)       (None, 14, 14, 512)       2359808   \n",
            "                                                                 \n",
            " block5_conv3 (Conv2D)       (None, 14, 14, 512)       2359808   \n",
            "                                                                 \n",
            " block5_conv4 (Conv2D)       (None, 14, 14, 512)       2359808   \n",
            "                                                                 \n",
            " block5_pool (MaxPooling2D)  (None, 7, 7, 512)         0         \n",
            "                                                                 \n",
            " flatten (Flatten)           (None, 25088)             0         \n",
            "                                                                 \n",
            " fc1 (Dense)                 (None, 4096)              102764544 \n",
            "                                                                 \n",
            " fc2 (Dense)                 (None, 4096)              16781312  \n",
            "                                                                 \n",
            "=================================================================\n",
            "Total params: 139,570,240\n",
            "Trainable params: 139,570,240\n",
            "Non-trainable params: 0\n",
            "_________________________________________________________________\n",
            "None\n"
          ]
        }
      ]
    },
    {
      "cell_type": "code",
      "source": [
        "# # extract features from image\n",
        "\n",
        "# features = {}\n",
        "# directory = os.path.join(BASE_DIR, 'Images')\n",
        "\n",
        "# for img_name in tqdm(os.listdir(directory)):\n",
        "#     # load the image from file\n",
        "#     img_path = directory + '/' + img_name\n",
        "#     image = load_img(img_path, target_size=(224, 224))\n",
        "#     # convert image pixels to numpy array\n",
        "#     image = img_to_array(image)\n",
        "#     # reshape data for model\n",
        "#     image = image.reshape((1, image.shape[0], image.shape[1], image.shape[2]))\n",
        "#     # preprocess image for vgg\n",
        "#     image = preprocess_input(image)\n",
        "#     # extract features\n",
        "#     feature = model.predict(image, verbose=0)\n",
        "#     # get image ID\n",
        "#     image_id = img_name.split('.')[0]\n",
        "#     # store feature\n",
        "#     features[image_id] = feature\n",
        "\n",
        "# # store features in pickle\n",
        "# pickle.dump(features, open(os.path.join(WORKING_DIR, 'features.pkl'), 'wb'))"
      ],
      "metadata": {
        "execution": {
          "iopub.status.busy": "2022-04-19T22:28:54.090966Z",
          "iopub.execute_input": "2022-04-19T22:28:54.091232Z",
          "iopub.status.idle": "2022-04-19T22:36:59.961687Z",
          "shell.execute_reply.started": "2022-04-19T22:28:54.091204Z",
          "shell.execute_reply": "2022-04-19T22:36:59.961014Z"
        },
        "trusted": true,
        "id": "V5YNChB2ji4L"
      },
      "execution_count": 10,
      "outputs": []
    },
    {
      "cell_type": "code",
      "source": [
        "# load features from pickle\n",
        "with open(os.path.join(WORKING_DIR, 'features.pkl'), 'rb') as f:\n",
        "    features = pickle.load(f)"
      ],
      "metadata": {
        "execution": {
          "iopub.status.busy": "2022-04-19T23:54:03.947172Z",
          "iopub.execute_input": "2022-04-19T23:54:03.948011Z",
          "iopub.status.idle": "2022-04-19T23:54:04.388607Z",
          "shell.execute_reply.started": "2022-04-19T23:54:03.947968Z",
          "shell.execute_reply": "2022-04-19T23:54:04.38779Z"
        },
        "trusted": true,
        "id": "ByYt3lsUji4L"
      },
      "execution_count": 11,
      "outputs": []
    },
    {
      "cell_type": "code",
      "source": [
        "len(features)"
      ],
      "metadata": {
        "colab": {
          "base_uri": "https://localhost:8080/"
        },
        "id": "Y4vMr3s3s5qe",
        "outputId": "7c0a9bd9-17ed-4669-e415-be1cb2d3e0d4"
      },
      "execution_count": 12,
      "outputs": [
        {
          "output_type": "execute_result",
          "data": {
            "text/plain": [
              "8091"
            ]
          },
          "metadata": {},
          "execution_count": 12
        }
      ]
    },
    {
      "cell_type": "code",
      "source": [
        "with open(os.path.join(BASE_DIR, 'captions.txt'), 'r') as f:\n",
        "    next(f)\n",
        "    captions_doc = f.read()"
      ],
      "metadata": {
        "execution": {
          "iopub.status.busy": "2022-04-19T23:54:06.213128Z",
          "iopub.execute_input": "2022-04-19T23:54:06.213873Z",
          "iopub.status.idle": "2022-04-19T23:54:06.26308Z",
          "shell.execute_reply.started": "2022-04-19T23:54:06.213824Z",
          "shell.execute_reply": "2022-04-19T23:54:06.26229Z"
        },
        "trusted": true,
        "id": "40Ke-xUZji4L"
      },
      "execution_count": 13,
      "outputs": []
    },
    {
      "cell_type": "code",
      "source": [
        "# create mapping of image to captions\n",
        "mapping = {}\n",
        "# process lines\n",
        "for line in tqdm(captions_doc.split('\\n')):\n",
        "    # split the line by comma(,)\n",
        "    tokens = line.split(',')\n",
        "    if len(line) < 2:\n",
        "        continue\n",
        "    image_id, caption = tokens[0], tokens[1:]\n",
        "    # remove extension from image ID\n",
        "    image_id = image_id.split('.')[0]\n",
        "    # convert caption list to string\n",
        "    caption = \" \".join(caption)\n",
        "    # create list if needed\n",
        "    if image_id not in mapping:\n",
        "        mapping[image_id] = []\n",
        "    # store the caption\n",
        "    mapping[image_id].append(caption)"
      ],
      "metadata": {
        "execution": {
          "iopub.status.busy": "2022-04-19T23:54:22.200081Z",
          "iopub.execute_input": "2022-04-19T23:54:22.2004Z",
          "iopub.status.idle": "2022-04-19T23:54:22.34996Z",
          "shell.execute_reply.started": "2022-04-19T23:54:22.200366Z",
          "shell.execute_reply": "2022-04-19T23:54:22.349241Z"
        },
        "trusted": true,
        "id": "6VCtAQFTji4M",
        "colab": {
          "base_uri": "https://localhost:8080/",
          "height": 49,
          "referenced_widgets": [
            "76f7fe25abd6414799852690d6759a2c",
            "9771d45a71d84ffbba1797fbf8133ba9",
            "c369dcce712842ba9e703f81b0e1eef0",
            "7506484644ec49bfb773e1c505566e16",
            "feadb55182bc43c68a8cc701e7d580d9",
            "12a570a4373b4cfd852b28495637d64d",
            "5058171cdc524617add93f8c0f2bf49a",
            "53401fa970d04357b429696a2feaa7f7",
            "117a80e7b6a0499f9c735948c30d8daa",
            "e74256fcea3345fc9692d589b518f934",
            "4a425a31ed914cbb802906901e6d404f"
          ]
        },
        "outputId": "93b890ec-a6ad-43fd-b7ff-61569d9be575"
      },
      "execution_count": 14,
      "outputs": [
        {
          "output_type": "display_data",
          "data": {
            "text/plain": [
              "  0%|          | 0/40456 [00:00<?, ?it/s]"
            ],
            "application/vnd.jupyter.widget-view+json": {
              "version_major": 2,
              "version_minor": 0,
              "model_id": "76f7fe25abd6414799852690d6759a2c"
            }
          },
          "metadata": {}
        }
      ]
    },
    {
      "cell_type": "code",
      "source": [
        "def clean(mapping):\n",
        "    for key, captions in mapping.items():\n",
        "        for i in range(len(captions)):\n",
        "            # take one caption at a time\n",
        "            caption = captions[i]\n",
        "            # preprocessing steps\n",
        "            # convert to lowercase\n",
        "            caption = caption.lower()\n",
        "            # delete digits, special chars, etc., \n",
        "            caption = caption.replace('[^A-Za-z]', '')\n",
        "            # delete additional spaces\n",
        "            caption = caption.replace('\\s+', ' ')\n",
        "            # add start and end tags to the caption\n",
        "            caption = 'startseq ' + \" \".join([word for word in caption.split() if len(word)>1]) + ' endseq'\n",
        "            captions[i] = caption"
      ],
      "metadata": {
        "execution": {
          "iopub.status.busy": "2022-04-19T23:54:44.56188Z",
          "iopub.execute_input": "2022-04-19T23:54:44.564811Z",
          "iopub.status.idle": "2022-04-19T23:54:44.575492Z",
          "shell.execute_reply.started": "2022-04-19T23:54:44.564738Z",
          "shell.execute_reply": "2022-04-19T23:54:44.574598Z"
        },
        "trusted": true,
        "id": "RNGQkZnIji4M"
      },
      "execution_count": 15,
      "outputs": []
    },
    {
      "cell_type": "code",
      "source": [
        "# before preprocess of text\n",
        "mapping['1000268201_693b08cb0e']"
      ],
      "metadata": {
        "execution": {
          "iopub.status.busy": "2022-04-19T23:54:46.251167Z",
          "iopub.execute_input": "2022-04-19T23:54:46.251845Z",
          "iopub.status.idle": "2022-04-19T23:54:46.257714Z",
          "shell.execute_reply.started": "2022-04-19T23:54:46.251801Z",
          "shell.execute_reply": "2022-04-19T23:54:46.256855Z"
        },
        "trusted": true,
        "id": "pEfLK3AZji4M",
        "colab": {
          "base_uri": "https://localhost:8080/"
        },
        "outputId": "564fc718-89a8-4f4d-fed0-b6b65b727a32"
      },
      "execution_count": 16,
      "outputs": [
        {
          "output_type": "execute_result",
          "data": {
            "text/plain": [
              "['A child in a pink dress is climbing up a set of stairs in an entry way .',\n",
              " 'A girl going into a wooden building .',\n",
              " 'A little girl climbing into a wooden playhouse .',\n",
              " 'A little girl climbing the stairs to her playhouse .',\n",
              " 'A little girl in a pink dress going into a wooden cabin .']"
            ]
          },
          "metadata": {},
          "execution_count": 16
        }
      ]
    },
    {
      "cell_type": "code",
      "source": [
        "# preprocess the text\n",
        "clean(mapping)"
      ],
      "metadata": {
        "execution": {
          "iopub.status.busy": "2022-04-19T23:54:49.033891Z",
          "iopub.execute_input": "2022-04-19T23:54:49.034567Z",
          "iopub.status.idle": "2022-04-19T23:54:49.168102Z",
          "shell.execute_reply.started": "2022-04-19T23:54:49.034529Z",
          "shell.execute_reply": "2022-04-19T23:54:49.167274Z"
        },
        "trusted": true,
        "id": "Fv10EdiBji4M"
      },
      "execution_count": 17,
      "outputs": []
    },
    {
      "cell_type": "code",
      "source": [
        "# after preprocess of text\n",
        "mapping['1000268201_693b08cb0e']"
      ],
      "metadata": {
        "execution": {
          "iopub.status.busy": "2022-04-19T23:54:49.98712Z",
          "iopub.execute_input": "2022-04-19T23:54:49.987701Z",
          "iopub.status.idle": "2022-04-19T23:54:49.992774Z",
          "shell.execute_reply.started": "2022-04-19T23:54:49.987659Z",
          "shell.execute_reply": "2022-04-19T23:54:49.992053Z"
        },
        "trusted": true,
        "id": "k8FM4vxrji4N",
        "colab": {
          "base_uri": "https://localhost:8080/"
        },
        "outputId": "98ce125f-9183-4aba-fe4e-fb25b20e91dc"
      },
      "execution_count": 18,
      "outputs": [
        {
          "output_type": "execute_result",
          "data": {
            "text/plain": [
              "['startseq child in pink dress is climbing up set of stairs in an entry way endseq',\n",
              " 'startseq girl going into wooden building endseq',\n",
              " 'startseq little girl climbing into wooden playhouse endseq',\n",
              " 'startseq little girl climbing the stairs to her playhouse endseq',\n",
              " 'startseq little girl in pink dress going into wooden cabin endseq']"
            ]
          },
          "metadata": {},
          "execution_count": 18
        }
      ]
    },
    {
      "cell_type": "code",
      "source": [
        "all_captions = []\n",
        "for key in mapping:\n",
        "    for caption in mapping[key]:\n",
        "        all_captions.append(caption)"
      ],
      "metadata": {
        "execution": {
          "iopub.status.busy": "2022-04-19T23:54:59.778047Z",
          "iopub.execute_input": "2022-04-19T23:54:59.778666Z",
          "iopub.status.idle": "2022-04-19T23:54:59.791296Z",
          "shell.execute_reply.started": "2022-04-19T23:54:59.778625Z",
          "shell.execute_reply": "2022-04-19T23:54:59.790568Z"
        },
        "trusted": true,
        "id": "IW3QaEcdji4N"
      },
      "execution_count": 19,
      "outputs": []
    },
    {
      "cell_type": "code",
      "source": [
        "len(all_captions)"
      ],
      "metadata": {
        "execution": {
          "iopub.status.busy": "2022-04-19T23:55:01.067652Z",
          "iopub.execute_input": "2022-04-19T23:55:01.068338Z",
          "iopub.status.idle": "2022-04-19T23:55:01.075084Z",
          "shell.execute_reply.started": "2022-04-19T23:55:01.068283Z",
          "shell.execute_reply": "2022-04-19T23:55:01.074258Z"
        },
        "trusted": true,
        "id": "Q1eDLQtXji4N",
        "colab": {
          "base_uri": "https://localhost:8080/"
        },
        "outputId": "21bfa8cc-ecdd-44fb-bccd-5b82f238d08d"
      },
      "execution_count": 20,
      "outputs": [
        {
          "output_type": "execute_result",
          "data": {
            "text/plain": [
              "40455"
            ]
          },
          "metadata": {},
          "execution_count": 20
        }
      ]
    },
    {
      "cell_type": "code",
      "source": [
        "all_captions[1]"
      ],
      "metadata": {
        "execution": {
          "iopub.status.busy": "2022-04-19T23:55:03.452398Z",
          "iopub.execute_input": "2022-04-19T23:55:03.452952Z",
          "iopub.status.idle": "2022-04-19T23:55:03.458499Z",
          "shell.execute_reply.started": "2022-04-19T23:55:03.45291Z",
          "shell.execute_reply": "2022-04-19T23:55:03.457514Z"
        },
        "trusted": true,
        "id": "ekh9jpGoji4N",
        "colab": {
          "base_uri": "https://localhost:8080/",
          "height": 37
        },
        "outputId": "a264ccce-e7b0-4a1b-81be-7c18603c5d7c"
      },
      "execution_count": 21,
      "outputs": [
        {
          "output_type": "execute_result",
          "data": {
            "text/plain": [
              "'startseq girl going into wooden building endseq'"
            ],
            "application/vnd.google.colaboratory.intrinsic+json": {
              "type": "string"
            }
          },
          "metadata": {},
          "execution_count": 21
        }
      ]
    },
    {
      "cell_type": "code",
      "source": [
        "# tokenize the text\n",
        "tokenizer = Tokenizer()\n",
        "tokenizer.fit_on_texts(all_captions)\n",
        "vocab_size = len(tokenizer.word_index) + 1"
      ],
      "metadata": {
        "execution": {
          "iopub.status.busy": "2022-04-19T23:55:05.352201Z",
          "iopub.execute_input": "2022-04-19T23:55:05.352986Z",
          "iopub.status.idle": "2022-04-19T23:55:05.975781Z",
          "shell.execute_reply.started": "2022-04-19T23:55:05.352945Z",
          "shell.execute_reply": "2022-04-19T23:55:05.974894Z"
        },
        "trusted": true,
        "id": "cO_ArLh2ji4N"
      },
      "execution_count": 22,
      "outputs": []
    },
    {
      "cell_type": "code",
      "source": [
        "vocab_size"
      ],
      "metadata": {
        "execution": {
          "iopub.status.busy": "2022-04-19T22:42:08.975996Z",
          "iopub.execute_input": "2022-04-19T22:42:08.976248Z",
          "iopub.status.idle": "2022-04-19T22:42:08.983678Z",
          "shell.execute_reply.started": "2022-04-19T22:42:08.976222Z",
          "shell.execute_reply": "2022-04-19T22:42:08.982875Z"
        },
        "trusted": true,
        "id": "4KR5Oxnhji4N",
        "colab": {
          "base_uri": "https://localhost:8080/"
        },
        "outputId": "49e07f9d-2634-498b-d0b0-fc6694e24fa3"
      },
      "execution_count": 23,
      "outputs": [
        {
          "output_type": "execute_result",
          "data": {
            "text/plain": [
              "8485"
            ]
          },
          "metadata": {},
          "execution_count": 23
        }
      ]
    },
    {
      "cell_type": "code",
      "source": [
        "# get maximum length of the caption available\n",
        "max_length = max(len(caption.split()) for caption in all_captions)\n",
        "max_length"
      ],
      "metadata": {
        "execution": {
          "iopub.status.busy": "2022-04-19T23:55:07.434534Z",
          "iopub.execute_input": "2022-04-19T23:55:07.435076Z",
          "iopub.status.idle": "2022-04-19T23:55:07.47275Z",
          "shell.execute_reply.started": "2022-04-19T23:55:07.435035Z",
          "shell.execute_reply": "2022-04-19T23:55:07.472034Z"
        },
        "trusted": true,
        "id": "w46OSNfVji4O",
        "colab": {
          "base_uri": "https://localhost:8080/"
        },
        "outputId": "f04f157f-f8b4-4b70-9bbc-9a44841ef935"
      },
      "execution_count": 24,
      "outputs": [
        {
          "output_type": "execute_result",
          "data": {
            "text/plain": [
              "35"
            ]
          },
          "metadata": {},
          "execution_count": 24
        }
      ]
    },
    {
      "cell_type": "code",
      "source": [
        "image_ids = list(mapping.keys())\n",
        "split = int(len(image_ids) * 0.90)\n",
        "train = image_ids[:split]\n",
        "test = image_ids[split:]"
      ],
      "metadata": {
        "execution": {
          "iopub.status.busy": "2022-04-19T23:55:09.307981Z",
          "iopub.execute_input": "2022-04-19T23:55:09.308297Z",
          "iopub.status.idle": "2022-04-19T23:55:09.313056Z",
          "shell.execute_reply.started": "2022-04-19T23:55:09.308245Z",
          "shell.execute_reply": "2022-04-19T23:55:09.312328Z"
        },
        "trusted": true,
        "id": "7a0ZTyuBji4O"
      },
      "execution_count": 25,
      "outputs": []
    },
    {
      "cell_type": "code",
      "source": [
        "# create data generator to get data in batch (avoids session crash)\n",
        "\n",
        "def data_generator(data_keys, mapping, features, tokenizer, max_length, vocab_size, batch_size):\n",
        "    # loop over images\n",
        "    X1, X2, y = list(), list(), list()\n",
        "    n = 0\n",
        "    while 1:\n",
        "        for key in data_keys:\n",
        "            n += 1\n",
        "            captions = mapping[key]\n",
        "            # process each caption\n",
        "            for caption in captions:\n",
        "                # encode the sequence\n",
        "                seq = tokenizer.texts_to_sequences([caption])[0]\n",
        "                # split the sequence into X, y pairs\n",
        "                for i in range(1, len(seq)):\n",
        "                    # split into input and output pairs\n",
        "                    in_seq, out_seq = seq[:i], seq[i]\n",
        "                    # pad input sequence\n",
        "                    in_seq = pad_sequences([in_seq], maxlen=max_length)[0]\n",
        "                    # encode output sequence\n",
        "                    out_seq = to_categorical([out_seq], num_classes=vocab_size)[0]\n",
        "                    \n",
        "                    # store the sequences\n",
        "                    X1.append(features[key][0])\n",
        "                    X2.append(in_seq)\n",
        "                    y.append(out_seq)\n",
        "            if n == batch_size:\n",
        "                X1, X2, y = np.array(X1), np.array(X2), np.array(y)\n",
        "                yield [X1, X2], y\n",
        "                X1, X2, y = list(), list(), list()\n",
        "                n = 0"
      ],
      "metadata": {
        "execution": {
          "iopub.status.busy": "2022-04-19T23:55:15.141974Z",
          "iopub.execute_input": "2022-04-19T23:55:15.142279Z",
          "iopub.status.idle": "2022-04-19T23:55:15.151636Z",
          "shell.execute_reply.started": "2022-04-19T23:55:15.142233Z",
          "shell.execute_reply": "2022-04-19T23:55:15.150684Z"
        },
        "trusted": true,
        "id": "Iub_deu8ji4O"
      },
      "execution_count": 26,
      "outputs": []
    },
    {
      "cell_type": "code",
      "source": [
        "# encoder model\n",
        "# image feature layers\n",
        "inputs1 = Input(shape=(4096,))\n",
        "fe1 = Dropout(0.4)(inputs1)\n",
        "fe2 = Dense(256, activation='relu')(fe1)\n",
        "# sequence feature layers\n",
        "inputs2 = Input(shape=(max_length,))\n",
        "se1 = Embedding(vocab_size, 256, mask_zero=True)(inputs2)\n",
        "se2 = Dropout(0.4)(se1)\n",
        "se3 = LSTM(256)(se2)\n",
        "\n",
        "# decoder model\n",
        "decoder1 = add([fe2, se3])\n",
        "decoder2 = Dense(256, activation='relu')(decoder1)\n",
        "outputs = Dense(vocab_size, activation='softmax')(decoder2)\n",
        "\n",
        "model = Model(inputs=[inputs1, inputs2], outputs=outputs)\n",
        "model.compile(loss='binary_crossentropy', optimizer='Adagrad')\n",
        "\n",
        "# plot the model\n",
        "plot_model(model, show_shapes=True)"
      ],
      "metadata": {
        "execution": {
          "iopub.status.busy": "2022-04-19T23:55:22.268102Z",
          "iopub.execute_input": "2022-04-19T23:55:22.268887Z",
          "iopub.status.idle": "2022-04-19T23:55:26.166997Z",
          "shell.execute_reply.started": "2022-04-19T23:55:22.26885Z",
          "shell.execute_reply": "2022-04-19T23:55:26.166159Z"
        },
        "trusted": true,
        "id": "ecmbRNnTji4O",
        "colab": {
          "base_uri": "https://localhost:8080/",
          "height": 754
        },
        "outputId": "d8b5ea7d-0778-442e-80d5-a9b6629d7658"
      },
      "execution_count": 27,
      "outputs": [
        {
          "output_type": "execute_result",
          "data": {
            "text/plain": [
              "<IPython.core.display.Image object>"
            ],
            "image/png": "[encoded data removed]"
          },
          "metadata": {},
          "execution_count": 27
        }
      ]
    },
    {
      "cell_type": "code",
      "source": [
        "# train the model\n",
        "epochs = 1\n",
        "batch_size = 32\n",
        "steps = len(train) // batch_size\n",
        "\n",
        "for i in range(epochs):\n",
        "    # create data generator\n",
        "    generator = data_generator(train, mapping, features, tokenizer, max_length, vocab_size, batch_size)\n",
        "    # fit for one epoch\n",
        "    model.fit(generator, epochs=1, steps_per_epoch=steps, verbose=1)\n",
        "\n",
        "# save the model\n",
        "model.save(WORKING_DIR+'/best_model_parameters.h5')"
      ],
      "metadata": {
        "execution": {
          "iopub.status.busy": "2022-04-19T23:55:33.15681Z",
          "iopub.execute_input": "2022-04-19T23:55:33.157494Z",
          "iopub.status.idle": "2022-04-20T00:13:44.044743Z",
          "shell.execute_reply.started": "2022-04-19T23:55:33.157447Z",
          "shell.execute_reply": "2022-04-20T00:13:44.043733Z"
        },
        "trusted": true,
        "id": "D8UJ9qjXji4P",
        "colab": {
          "base_uri": "https://localhost:8080/"
        },
        "outputId": "75478d91-2ab8-417c-82cc-6676cab7d41c"
      },
      "execution_count": 28,
      "outputs": [
        {
          "output_type": "stream",
          "name": "stdout",
          "text": [
            "227/227 [==============================] - 98s 400ms/step - loss: 0.6983\n"
          ]
        }
      ]
    },
    {
      "cell_type": "code",
      "source": [
        "from tensorflow import keras\n",
        "model = keras.models.load_model('/content/flickr8k/FlickerAllData/best_model.h5')\n",
        "print(model)"
      ],
      "metadata": {
        "colab": {
          "base_uri": "https://localhost:8080/"
        },
        "id": "BYIHnNPIzkmI",
        "outputId": "7a2485f7-6ba3-4acf-d763-7dfd25ffb739"
      },
      "execution_count": 29,
      "outputs": [
        {
          "output_type": "stream",
          "name": "stdout",
          "text": [
            "<keras.engine.functional.Functional object at 0x7f7f604b4e10>\n"
          ]
        }
      ]
    },
    {
      "cell_type": "code",
      "source": [
        "def idx_to_word(integer, tokenizer):\n",
        "    for word, index in tokenizer.word_index.items():\n",
        "        if index == integer:\n",
        "            return word\n",
        "    return None"
      ],
      "metadata": {
        "execution": {
          "iopub.status.busy": "2022-04-20T00:16:30.380471Z",
          "iopub.execute_input": "2022-04-20T00:16:30.381063Z",
          "iopub.status.idle": "2022-04-20T00:16:30.386917Z",
          "shell.execute_reply.started": "2022-04-20T00:16:30.381021Z",
          "shell.execute_reply": "2022-04-20T00:16:30.38566Z"
        },
        "trusted": true,
        "id": "igcv_4x0ji4P"
      },
      "execution_count": 30,
      "outputs": []
    },
    {
      "cell_type": "code",
      "source": [
        "# generate caption for an image\n",
        "def predict_caption(model, image, tokenizer, max_length):\n",
        "    # add start tag for generation process\n",
        "    in_text = 'startseq'\n",
        "    # iterate over the max length of sequence\n",
        "    for i in range(max_length):\n",
        "        # encode input sequence\n",
        "        sequence = tokenizer.texts_to_sequences([in_text])[0]\n",
        "        # pad the sequence\n",
        "        sequence = pad_sequences([sequence], max_length)\n",
        "        # predict next word\n",
        "        yhat = model.predict([image, sequence], verbose=0)\n",
        "        # get index with high probability\n",
        "        yhat = np.argmax(yhat)\n",
        "        # convert index to word\n",
        "        word = idx_to_word(yhat, tokenizer)\n",
        "        # stop if word not found\n",
        "        if word is None:\n",
        "            break\n",
        "        # append word as input for generating next word\n",
        "        in_text += \" \" + word\n",
        "        # stop if we reach end tag\n",
        "        if word == 'endseq':\n",
        "            break\n",
        "      \n",
        "    return in_text"
      ],
      "metadata": {
        "execution": {
          "iopub.status.busy": "2022-04-20T00:16:32.224623Z",
          "iopub.execute_input": "2022-04-20T00:16:32.225132Z",
          "iopub.status.idle": "2022-04-20T00:16:32.231966Z",
          "shell.execute_reply.started": "2022-04-20T00:16:32.225092Z",
          "shell.execute_reply": "2022-04-20T00:16:32.230943Z"
        },
        "trusted": true,
        "id": "ZQybiSBSji4P"
      },
      "execution_count": 31,
      "outputs": []
    },
    {
      "cell_type": "code",
      "source": [
        "from nltk.translate.bleu_score import corpus_bleu\n",
        "# validate with test data\n",
        "actual, predicted = list(), list()\n",
        "\n",
        "for key in tqdm(test):\n",
        "    # get actual caption\n",
        "    captions = mapping[key]\n",
        "    # predict the caption for image\n",
        "    y_pred = predict_caption(model, features[key], tokenizer, max_length) \n",
        "    # split into words\n",
        "    actual_captions = [caption.split() for caption in captions]\n",
        "    y_pred = y_pred.split()\n",
        "    # append to the list\n",
        "    actual.append(actual_captions)\n",
        "    predicted.append(y_pred)\n",
        "    \n",
        "# calcuate BLEU score\n",
        "print(\"BLEU-1: %f\" % corpus_bleu(actual, predicted, weights=(1.0, 0, 0, 0)))\n",
        "print(\"BLEU-2: %f\" % corpus_bleu(actual, predicted, weights=(0.5, 0.5, 0, 0)))"
      ],
      "metadata": {
        "execution": {
          "iopub.status.busy": "2022-04-20T00:16:34.302084Z",
          "iopub.execute_input": "2022-04-20T00:16:34.302947Z",
          "iopub.status.idle": "2022-04-20T00:16:52.228445Z",
          "shell.execute_reply.started": "2022-04-20T00:16:34.302892Z",
          "shell.execute_reply": "2022-04-20T00:16:52.227339Z"
        },
        "trusted": true,
        "id": "WcpfqJW-ji4P",
        "colab": {
          "base_uri": "https://localhost:8080/",
          "height": 83,
          "referenced_widgets": [
            "6468e630af184fd99e45308b2cefe875",
            "cb7de96e29de489b9164d8ef47fc180e",
            "09205911cacf418db6157e83c665a34c",
            "2a1914dfad35442e9a222195749cfed9",
            "6a5a540551b2416fb92ed69c300873ca",
            "ab83600029ca4a43bb333880f32e2d14",
            "8eb364d5a94e4779a8e978b0b97a52c0",
            "1656de3eb34d429ead4fa0f9ea4335ee",
            "c918933f5cf34476bd9802fd50ab4828",
            "94a4c0c2e49b41f89fa545a6cb64f7a3",
            "d3997968c0034a2c987f4861539e4c25"
          ]
        },
        "outputId": "0f48ec72-9e06-427b-b8e2-738c07453427"
      },
      "execution_count": 32,
      "outputs": [
        {
          "output_type": "display_data",
          "data": {
            "text/plain": [
              "  0%|          | 0/810 [00:00<?, ?it/s]"
            ],
            "application/vnd.jupyter.widget-view+json": {
              "version_major": 2,
              "version_minor": 0,
              "model_id": "6468e630af184fd99e45308b2cefe875"
            }
          },
          "metadata": {}
        },
        {
          "output_type": "stream",
          "name": "stdout",
          "text": [
            "BLEU-1: 0.516503\n",
            "BLEU-2: 0.293975\n"
          ]
        }
      ]
    },
    {
      "cell_type": "code",
      "source": [
        "predicted[1]"
      ],
      "metadata": {
        "execution": {
          "iopub.status.busy": "2022-04-19T23:30:36.625967Z",
          "iopub.execute_input": "2022-04-19T23:30:36.626601Z",
          "iopub.status.idle": "2022-04-19T23:30:36.632519Z",
          "shell.execute_reply.started": "2022-04-19T23:30:36.62656Z",
          "shell.execute_reply": "2022-04-19T23:30:36.631651Z"
        },
        "trusted": true,
        "id": "dRBGJBgvji4P",
        "colab": {
          "base_uri": "https://localhost:8080/"
        },
        "outputId": "86da3541-6ddc-41b0-d50b-dc78f2afbf76"
      },
      "execution_count": 33,
      "outputs": [
        {
          "output_type": "execute_result",
          "data": {
            "text/plain": [
              "['startseq',\n",
              " 'dog',\n",
              " 'lies',\n",
              " 'on',\n",
              " 'its',\n",
              " 'hind',\n",
              " 'legs',\n",
              " 'trying',\n",
              " 'to',\n",
              " 'catch',\n",
              " 'ball',\n",
              " 'endseq']"
            ]
          },
          "metadata": {},
          "execution_count": 33
        }
      ]
    },
    {
      "cell_type": "code",
      "source": [
        "actual[1]"
      ],
      "metadata": {
        "execution": {
          "iopub.status.busy": "2022-04-19T23:30:38.944445Z",
          "iopub.execute_input": "2022-04-19T23:30:38.944806Z",
          "iopub.status.idle": "2022-04-19T23:30:38.950708Z",
          "shell.execute_reply.started": "2022-04-19T23:30:38.944771Z",
          "shell.execute_reply": "2022-04-19T23:30:38.950018Z"
        },
        "trusted": true,
        "id": "6FLH-mAeji4Q"
      },
      "execution_count": null,
      "outputs": []
    },
    {
      "cell_type": "code",
      "source": [
        "from PIL import Image\n",
        "import matplotlib.pyplot as plt\n",
        "def generate_caption(image_name):\n",
        "    # load the image\n",
        "    # image_name = \"1001773457_577c3a7d70.jpg\"\n",
        "    image_id = image_name.split('.')[0]\n",
        "    img_path = os.path.join(BASE_DIR, \"Images\", image_name)\n",
        "    image = Image.open(img_path)\n",
        "    captions = mapping[image_id]\n",
        "    print('---------------------Actual---------------------')\n",
        "    for caption in captions:\n",
        "        print(caption)\n",
        "    # predict the caption\n",
        "    y_pred = predict_caption(model, features[image_id], tokenizer, max_length)\n",
        "    print('--------------------Predicted--------------------')\n",
        "    print(y_pred)\n",
        "    plt.imshow(image)"
      ],
      "metadata": {
        "execution": {
          "iopub.status.busy": "2022-04-19T23:30:43.30741Z",
          "iopub.execute_input": "2022-04-19T23:30:43.307669Z",
          "iopub.status.idle": "2022-04-19T23:30:43.314032Z",
          "shell.execute_reply.started": "2022-04-19T23:30:43.307642Z",
          "shell.execute_reply": "2022-04-19T23:30:43.313345Z"
        },
        "trusted": true,
        "id": "kspUaEeeji4Q"
      },
      "execution_count": 34,
      "outputs": []
    },
    {
      "cell_type": "code",
      "source": [
        "generate_caption(\"1002674143_1b742ab4b8.jpg\")"
      ],
      "metadata": {
        "execution": {
          "iopub.status.busy": "2022-04-19T23:30:47.907923Z",
          "iopub.execute_input": "2022-04-19T23:30:47.910196Z",
          "iopub.status.idle": "2022-04-19T23:30:48.777641Z",
          "shell.execute_reply.started": "2022-04-19T23:30:47.910161Z",
          "shell.execute_reply": "2022-04-19T23:30:48.776939Z"
        },
        "trusted": true,
        "id": "LDmB-YsZji4Q",
        "colab": {
          "base_uri": "https://localhost:8080/",
          "height": 405
        },
        "outputId": "be8cf7a0-0408-4e1e-c84c-4537ad70a0b2"
      },
      "execution_count": 35,
      "outputs": [
        {
          "output_type": "stream",
          "name": "stdout",
          "text": [
            "---------------------Actual---------------------\n",
            "startseq little girl covered in paint sits in front of painted rainbow with her hands in bowl endseq\n",
            "startseq little girl is sitting in front of large painted rainbow endseq\n",
            "startseq small girl in the grass plays with fingerpaints in front of white canvas with rainbow on it endseq\n",
            "startseq there is girl with pigtails sitting in front of rainbow painting endseq\n",
            "startseq young girl with pigtails painting outside in the grass endseq\n",
            "--------------------Predicted--------------------\n",
            "startseq little girl in red dress is sitting on red rubber balloon painting endseq\n"
          ]
        },
        {
          "output_type": "display_data",
          "data": {
            "text/plain": [
              "<Figure size 432x288 with 1 Axes>"
            ],
            "image/png": "[encoded data removed]"
          },
          "metadata": {
            "needs_background": "light"
          }
        }
      ]
    }
  ]
}