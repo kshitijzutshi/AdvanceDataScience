{
  "metadata": {
    "kernelspec": {
      "language": "python",
      "display_name": "Python 3",
      "name": "python3"
    },
    "language_info": {
      "pygments_lexer": "ipython3",
      "nbconvert_exporter": "python",
      "version": "3.6.4",
      "file_extension": ".py",
      "codemirror_mode": {
        "name": "ipython",
        "version": 3
      },
      "name": "python",
      "mimetype": "text/x-python"
    },
    "colab": {
      "name": "image_captioning_with_cnn_GRU.ipynb",
      "provenance": [],
      "collapsed_sections": []
    },
    "widgets": {
      "application/vnd.jupyter.widget-state+json": {
        "63fad09685e34b758d4a4b5697713220": {
          "model_module": "@jupyter-widgets/controls",
          "model_name": "HBoxModel",
          "model_module_version": "1.5.0",
          "state": {
            "_dom_classes": [],
            "_model_module": "@jupyter-widgets/controls",
            "_model_module_version": "1.5.0",
            "_model_name": "HBoxModel",
            "_view_count": null,
            "_view_module": "@jupyter-widgets/controls",
            "_view_module_version": "1.5.0",
            "_view_name": "HBoxView",
            "box_style": "",
            "children": [
              "IPY_MODEL_8f31f75aa8d14353a757c2da78aeabbd",
              "IPY_MODEL_b4a9b3b38a1b4e07bbaca4f47c8daa3d",
              "IPY_MODEL_750b9d24d28a4cc2bc547eb5b4fb2fa7"
            ],
            "layout": "IPY_MODEL_00b148b1fb9d480683eaacddc3936b79"
          }
        },
        "8f31f75aa8d14353a757c2da78aeabbd": {
          "model_module": "@jupyter-widgets/controls",
          "model_name": "HTMLModel",
          "model_module_version": "1.5.0",
          "state": {
            "_dom_classes": [],
            "_model_module": "@jupyter-widgets/controls",
            "_model_module_version": "1.5.0",
            "_model_name": "HTMLModel",
            "_view_count": null,
            "_view_module": "@jupyter-widgets/controls",
            "_view_module_version": "1.5.0",
            "_view_name": "HTMLView",
            "description": "",
            "description_tooltip": null,
            "layout": "IPY_MODEL_1a21931b7b334ac69ab17e6f346081d9",
            "placeholder": "​",
            "style": "IPY_MODEL_dfdce824d9134d6cb32f7911bf39fc32",
            "value": "100%"
          }
        },
        "b4a9b3b38a1b4e07bbaca4f47c8daa3d": {
          "model_module": "@jupyter-widgets/controls",
          "model_name": "FloatProgressModel",
          "model_module_version": "1.5.0",
          "state": {
            "_dom_classes": [],
            "_model_module": "@jupyter-widgets/controls",
            "_model_module_version": "1.5.0",
            "_model_name": "FloatProgressModel",
            "_view_count": null,
            "_view_module": "@jupyter-widgets/controls",
            "_view_module_version": "1.5.0",
            "_view_name": "ProgressView",
            "bar_style": "success",
            "description": "",
            "description_tooltip": null,
            "layout": "IPY_MODEL_5aa0ca02c15b4ba5babc992c0f667576",
            "max": 40456,
            "min": 0,
            "orientation": "horizontal",
            "style": "IPY_MODEL_88ec8a48ae7a4703a6d026bb20dc0dd9",
            "value": 40456
          }
        },
        "750b9d24d28a4cc2bc547eb5b4fb2fa7": {
          "model_module": "@jupyter-widgets/controls",
          "model_name": "HTMLModel",
          "model_module_version": "1.5.0",
          "state": {
            "_dom_classes": [],
            "_model_module": "@jupyter-widgets/controls",
            "_model_module_version": "1.5.0",
            "_model_name": "HTMLModel",
            "_view_count": null,
            "_view_module": "@jupyter-widgets/controls",
            "_view_module_version": "1.5.0",
            "_view_name": "HTMLView",
            "description": "",
            "description_tooltip": null,
            "layout": "IPY_MODEL_333650ae70004b6fad6d052c631061ff",
            "placeholder": "​",
            "style": "IPY_MODEL_acad558d8da74763ae26f55f6ef96c9f",
            "value": " 40456/40456 [00:00&lt;00:00, 202371.73it/s]"
          }
        },
        "00b148b1fb9d480683eaacddc3936b79": {
          "model_module": "@jupyter-widgets/base",
          "model_name": "LayoutModel",
          "model_module_version": "1.2.0",
          "state": {
            "_model_module": "@jupyter-widgets/base",
            "_model_module_version": "1.2.0",
            "_model_name": "LayoutModel",
            "_view_count": null,
            "_view_module": "@jupyter-widgets/base",
            "_view_module_version": "1.2.0",
            "_view_name": "LayoutView",
            "align_content": null,
            "align_items": null,
            "align_self": null,
            "border": null,
            "bottom": null,
            "display": null,
            "flex": null,
            "flex_flow": null,
            "grid_area": null,
            "grid_auto_columns": null,
            "grid_auto_flow": null,
            "grid_auto_rows": null,
            "grid_column": null,
            "grid_gap": null,
            "grid_row": null,
            "grid_template_areas": null,
            "grid_template_columns": null,
            "grid_template_rows": null,
            "height": null,
            "justify_content": null,
            "justify_items": null,
            "left": null,
            "margin": null,
            "max_height": null,
            "max_width": null,
            "min_height": null,
            "min_width": null,
            "object_fit": null,
            "object_position": null,
            "order": null,
            "overflow": null,
            "overflow_x": null,
            "overflow_y": null,
            "padding": null,
            "right": null,
            "top": null,
            "visibility": null,
            "width": null
          }
        },
        "1a21931b7b334ac69ab17e6f346081d9": {
          "model_module": "@jupyter-widgets/base",
          "model_name": "LayoutModel",
          "model_module_version": "1.2.0",
          "state": {
            "_model_module": "@jupyter-widgets/base",
            "_model_module_version": "1.2.0",
            "_model_name": "LayoutModel",
            "_view_count": null,
            "_view_module": "@jupyter-widgets/base",
            "_view_module_version": "1.2.0",
            "_view_name": "LayoutView",
            "align_content": null,
            "align_items": null,
            "align_self": null,
            "border": null,
            "bottom": null,
            "display": null,
            "flex": null,
            "flex_flow": null,
            "grid_area": null,
            "grid_auto_columns": null,
            "grid_auto_flow": null,
            "grid_auto_rows": null,
            "grid_column": null,
            "grid_gap": null,
            "grid_row": null,
            "grid_template_areas": null,
            "grid_template_columns": null,
            "grid_template_rows": null,
            "height": null,
            "justify_content": null,
            "justify_items": null,
            "left": null,
            "margin": null,
            "max_height": null,
            "max_width": null,
            "min_height": null,
            "min_width": null,
            "object_fit": null,
            "object_position": null,
            "order": null,
            "overflow": null,
            "overflow_x": null,
            "overflow_y": null,
            "padding": null,
            "right": null,
            "top": null,
            "visibility": null,
            "width": null
          }
        },
        "dfdce824d9134d6cb32f7911bf39fc32": {
          "model_module": "@jupyter-widgets/controls",
          "model_name": "DescriptionStyleModel",
          "model_module_version": "1.5.0",
          "state": {
            "_model_module": "@jupyter-widgets/controls",
            "_model_module_version": "1.5.0",
            "_model_name": "DescriptionStyleModel",
            "_view_count": null,
            "_view_module": "@jupyter-widgets/base",
            "_view_module_version": "1.2.0",
            "_view_name": "StyleView",
            "description_width": ""
          }
        },
        "5aa0ca02c15b4ba5babc992c0f667576": {
          "model_module": "@jupyter-widgets/base",
          "model_name": "LayoutModel",
          "model_module_version": "1.2.0",
          "state": {
            "_model_module": "@jupyter-widgets/base",
            "_model_module_version": "1.2.0",
            "_model_name": "LayoutModel",
            "_view_count": null,
            "_view_module": "@jupyter-widgets/base",
            "_view_module_version": "1.2.0",
            "_view_name": "LayoutView",
            "align_content": null,
            "align_items": null,
            "align_self": null,
            "border": null,
            "bottom": null,
            "display": null,
            "flex": null,
            "flex_flow": null,
            "grid_area": null,
            "grid_auto_columns": null,
            "grid_auto_flow": null,
            "grid_auto_rows": null,
            "grid_column": null,
            "grid_gap": null,
            "grid_row": null,
            "grid_template_areas": null,
            "grid_template_columns": null,
            "grid_template_rows": null,
            "height": null,
            "justify_content": null,
            "justify_items": null,
            "left": null,
            "margin": null,
            "max_height": null,
            "max_width": null,
            "min_height": null,
            "min_width": null,
            "object_fit": null,
            "object_position": null,
            "order": null,
            "overflow": null,
            "overflow_x": null,
            "overflow_y": null,
            "padding": null,
            "right": null,
            "top": null,
            "visibility": null,
            "width": null
          }
        },
        "88ec8a48ae7a4703a6d026bb20dc0dd9": {
          "model_module": "@jupyter-widgets/controls",
          "model_name": "ProgressStyleModel",
          "model_module_version": "1.5.0",
          "state": {
            "_model_module": "@jupyter-widgets/controls",
            "_model_module_version": "1.5.0",
            "_model_name": "ProgressStyleModel",
            "_view_count": null,
            "_view_module": "@jupyter-widgets/base",
            "_view_module_version": "1.2.0",
            "_view_name": "StyleView",
            "bar_color": null,
            "description_width": ""
          }
        },
        "333650ae70004b6fad6d052c631061ff": {
          "model_module": "@jupyter-widgets/base",
          "model_name": "LayoutModel",
          "model_module_version": "1.2.0",
          "state": {
            "_model_module": "@jupyter-widgets/base",
            "_model_module_version": "1.2.0",
            "_model_name": "LayoutModel",
            "_view_count": null,
            "_view_module": "@jupyter-widgets/base",
            "_view_module_version": "1.2.0",
            "_view_name": "LayoutView",
            "align_content": null,
            "align_items": null,
            "align_self": null,
            "border": null,
            "bottom": null,
            "display": null,
            "flex": null,
            "flex_flow": null,
            "grid_area": null,
            "grid_auto_columns": null,
            "grid_auto_flow": null,
            "grid_auto_rows": null,
            "grid_column": null,
            "grid_gap": null,
            "grid_row": null,
            "grid_template_areas": null,
            "grid_template_columns": null,
            "grid_template_rows": null,
            "height": null,
            "justify_content": null,
            "justify_items": null,
            "left": null,
            "margin": null,
            "max_height": null,
            "max_width": null,
            "min_height": null,
            "min_width": null,
            "object_fit": null,
            "object_position": null,
            "order": null,
            "overflow": null,
            "overflow_x": null,
            "overflow_y": null,
            "padding": null,
            "right": null,
            "top": null,
            "visibility": null,
            "width": null
          }
        },
        "acad558d8da74763ae26f55f6ef96c9f": {
          "model_module": "@jupyter-widgets/controls",
          "model_name": "DescriptionStyleModel",
          "model_module_version": "1.5.0",
          "state": {
            "_model_module": "@jupyter-widgets/controls",
            "_model_module_version": "1.5.0",
            "_model_name": "DescriptionStyleModel",
            "_view_count": null,
            "_view_module": "@jupyter-widgets/base",
            "_view_module_version": "1.2.0",
            "_view_name": "StyleView",
            "description_width": ""
          }
        },
        "1685a275851542fe842664977d3d18be": {
          "model_module": "@jupyter-widgets/controls",
          "model_name": "HBoxModel",
          "model_module_version": "1.5.0",
          "state": {
            "_dom_classes": [],
            "_model_module": "@jupyter-widgets/controls",
            "_model_module_version": "1.5.0",
            "_model_name": "HBoxModel",
            "_view_count": null,
            "_view_module": "@jupyter-widgets/controls",
            "_view_module_version": "1.5.0",
            "_view_name": "HBoxView",
            "box_style": "",
            "children": [
              "IPY_MODEL_7eece30da33c463da028a82d632747ae",
              "IPY_MODEL_b2bef422f9094d9bb372080e4b46e73c",
              "IPY_MODEL_d0f259d7b4a7460e9b09a83f36630e3a"
            ],
            "layout": "IPY_MODEL_abb7a440c73b4ef8b9680531ea3bee87"
          }
        },
        "7eece30da33c463da028a82d632747ae": {
          "model_module": "@jupyter-widgets/controls",
          "model_name": "HTMLModel",
          "model_module_version": "1.5.0",
          "state": {
            "_dom_classes": [],
            "_model_module": "@jupyter-widgets/controls",
            "_model_module_version": "1.5.0",
            "_model_name": "HTMLModel",
            "_view_count": null,
            "_view_module": "@jupyter-widgets/controls",
            "_view_module_version": "1.5.0",
            "_view_name": "HTMLView",
            "description": "",
            "description_tooltip": null,
            "layout": "IPY_MODEL_59494db655be4eee9303672dd1d55b98",
            "placeholder": "​",
            "style": "IPY_MODEL_a765bfd563fd433f83a01a045af0312e",
            "value": "100%"
          }
        },
        "b2bef422f9094d9bb372080e4b46e73c": {
          "model_module": "@jupyter-widgets/controls",
          "model_name": "FloatProgressModel",
          "model_module_version": "1.5.0",
          "state": {
            "_dom_classes": [],
            "_model_module": "@jupyter-widgets/controls",
            "_model_module_version": "1.5.0",
            "_model_name": "FloatProgressModel",
            "_view_count": null,
            "_view_module": "@jupyter-widgets/controls",
            "_view_module_version": "1.5.0",
            "_view_name": "ProgressView",
            "bar_style": "success",
            "description": "",
            "description_tooltip": null,
            "layout": "IPY_MODEL_b8cceac754cb4dca831665ef3eb6c0b1",
            "max": 810,
            "min": 0,
            "orientation": "horizontal",
            "style": "IPY_MODEL_a079eca0d98d4bac8904aeeddadee0f3",
            "value": 810
          }
        },
        "d0f259d7b4a7460e9b09a83f36630e3a": {
          "model_module": "@jupyter-widgets/controls",
          "model_name": "HTMLModel",
          "model_module_version": "1.5.0",
          "state": {
            "_dom_classes": [],
            "_model_module": "@jupyter-widgets/controls",
            "_model_module_version": "1.5.0",
            "_model_name": "HTMLModel",
            "_view_count": null,
            "_view_module": "@jupyter-widgets/controls",
            "_view_module_version": "1.5.0",
            "_view_name": "HTMLView",
            "description": "",
            "description_tooltip": null,
            "layout": "IPY_MODEL_09484e672bac46c3b184f038226085ba",
            "placeholder": "​",
            "style": "IPY_MODEL_430c7f49e92c43b88887d9a00dffeddf",
            "value": " 810/810 [08:44&lt;00:00,  1.88it/s]"
          }
        },
        "abb7a440c73b4ef8b9680531ea3bee87": {
          "model_module": "@jupyter-widgets/base",
          "model_name": "LayoutModel",
          "model_module_version": "1.2.0",
          "state": {
            "_model_module": "@jupyter-widgets/base",
            "_model_module_version": "1.2.0",
            "_model_name": "LayoutModel",
            "_view_count": null,
            "_view_module": "@jupyter-widgets/base",
            "_view_module_version": "1.2.0",
            "_view_name": "LayoutView",
            "align_content": null,
            "align_items": null,
            "align_self": null,
            "border": null,
            "bottom": null,
            "display": null,
            "flex": null,
            "flex_flow": null,
            "grid_area": null,
            "grid_auto_columns": null,
            "grid_auto_flow": null,
            "grid_auto_rows": null,
            "grid_column": null,
            "grid_gap": null,
            "grid_row": null,
            "grid_template_areas": null,
            "grid_template_columns": null,
            "grid_template_rows": null,
            "height": null,
            "justify_content": null,
            "justify_items": null,
            "left": null,
            "margin": null,
            "max_height": null,
            "max_width": null,
            "min_height": null,
            "min_width": null,
            "object_fit": null,
            "object_position": null,
            "order": null,
            "overflow": null,
            "overflow_x": null,
            "overflow_y": null,
            "padding": null,
            "right": null,
            "top": null,
            "visibility": null,
            "width": null
          }
        },
        "59494db655be4eee9303672dd1d55b98": {
          "model_module": "@jupyter-widgets/base",
          "model_name": "LayoutModel",
          "model_module_version": "1.2.0",
          "state": {
            "_model_module": "@jupyter-widgets/base",
            "_model_module_version": "1.2.0",
            "_model_name": "LayoutModel",
            "_view_count": null,
            "_view_module": "@jupyter-widgets/base",
            "_view_module_version": "1.2.0",
            "_view_name": "LayoutView",
            "align_content": null,
            "align_items": null,
            "align_self": null,
            "border": null,
            "bottom": null,
            "display": null,
            "flex": null,
            "flex_flow": null,
            "grid_area": null,
            "grid_auto_columns": null,
            "grid_auto_flow": null,
            "grid_auto_rows": null,
            "grid_column": null,
            "grid_gap": null,
            "grid_row": null,
            "grid_template_areas": null,
            "grid_template_columns": null,
            "grid_template_rows": null,
            "height": null,
            "justify_content": null,
            "justify_items": null,
            "left": null,
            "margin": null,
            "max_height": null,
            "max_width": null,
            "min_height": null,
            "min_width": null,
            "object_fit": null,
            "object_position": null,
            "order": null,
            "overflow": null,
            "overflow_x": null,
            "overflow_y": null,
            "padding": null,
            "right": null,
            "top": null,
            "visibility": null,
            "width": null
          }
        },
        "a765bfd563fd433f83a01a045af0312e": {
          "model_module": "@jupyter-widgets/controls",
          "model_name": "DescriptionStyleModel",
          "model_module_version": "1.5.0",
          "state": {
            "_model_module": "@jupyter-widgets/controls",
            "_model_module_version": "1.5.0",
            "_model_name": "DescriptionStyleModel",
            "_view_count": null,
            "_view_module": "@jupyter-widgets/base",
            "_view_module_version": "1.2.0",
            "_view_name": "StyleView",
            "description_width": ""
          }
        },
        "b8cceac754cb4dca831665ef3eb6c0b1": {
          "model_module": "@jupyter-widgets/base",
          "model_name": "LayoutModel",
          "model_module_version": "1.2.0",
          "state": {
            "_model_module": "@jupyter-widgets/base",
            "_model_module_version": "1.2.0",
            "_model_name": "LayoutModel",
            "_view_count": null,
            "_view_module": "@jupyter-widgets/base",
            "_view_module_version": "1.2.0",
            "_view_name": "LayoutView",
            "align_content": null,
            "align_items": null,
            "align_self": null,
            "border": null,
            "bottom": null,
            "display": null,
            "flex": null,
            "flex_flow": null,
            "grid_area": null,
            "grid_auto_columns": null,
            "grid_auto_flow": null,
            "grid_auto_rows": null,
            "grid_column": null,
            "grid_gap": null,
            "grid_row": null,
            "grid_template_areas": null,
            "grid_template_columns": null,
            "grid_template_rows": null,
            "height": null,
            "justify_content": null,
            "justify_items": null,
            "left": null,
            "margin": null,
            "max_height": null,
            "max_width": null,
            "min_height": null,
            "min_width": null,
            "object_fit": null,
            "object_position": null,
            "order": null,
            "overflow": null,
            "overflow_x": null,
            "overflow_y": null,
            "padding": null,
            "right": null,
            "top": null,
            "visibility": null,
            "width": null
          }
        },
        "a079eca0d98d4bac8904aeeddadee0f3": {
          "model_module": "@jupyter-widgets/controls",
          "model_name": "ProgressStyleModel",
          "model_module_version": "1.5.0",
          "state": {
            "_model_module": "@jupyter-widgets/controls",
            "_model_module_version": "1.5.0",
            "_model_name": "ProgressStyleModel",
            "_view_count": null,
            "_view_module": "@jupyter-widgets/base",
            "_view_module_version": "1.2.0",
            "_view_name": "StyleView",
            "bar_color": null,
            "description_width": ""
          }
        },
        "09484e672bac46c3b184f038226085ba": {
          "model_module": "@jupyter-widgets/base",
          "model_name": "LayoutModel",
          "model_module_version": "1.2.0",
          "state": {
            "_model_module": "@jupyter-widgets/base",
            "_model_module_version": "1.2.0",
            "_model_name": "LayoutModel",
            "_view_count": null,
            "_view_module": "@jupyter-widgets/base",
            "_view_module_version": "1.2.0",
            "_view_name": "LayoutView",
            "align_content": null,
            "align_items": null,
            "align_self": null,
            "border": null,
            "bottom": null,
            "display": null,
            "flex": null,
            "flex_flow": null,
            "grid_area": null,
            "grid_auto_columns": null,
            "grid_auto_flow": null,
            "grid_auto_rows": null,
            "grid_column": null,
            "grid_gap": null,
            "grid_row": null,
            "grid_template_areas": null,
            "grid_template_columns": null,
            "grid_template_rows": null,
            "height": null,
            "justify_content": null,
            "justify_items": null,
            "left": null,
            "margin": null,
            "max_height": null,
            "max_width": null,
            "min_height": null,
            "min_width": null,
            "object_fit": null,
            "object_position": null,
            "order": null,
            "overflow": null,
            "overflow_x": null,
            "overflow_y": null,
            "padding": null,
            "right": null,
            "top": null,
            "visibility": null,
            "width": null
          }
        },
        "430c7f49e92c43b88887d9a00dffeddf": {
          "model_module": "@jupyter-widgets/controls",
          "model_name": "DescriptionStyleModel",
          "model_module_version": "1.5.0",
          "state": {
            "_model_module": "@jupyter-widgets/controls",
            "_model_module_version": "1.5.0",
            "_model_name": "DescriptionStyleModel",
            "_view_count": null,
            "_view_module": "@jupyter-widgets/base",
            "_view_module_version": "1.2.0",
            "_view_name": "StyleView",
            "description_width": ""
          }
        }
      }
    },
    "accelerator": "GPU"
  },
  "nbformat_minor": 0,
  "nbformat": 4,
  "cells": [
    {
      "cell_type": "markdown",
      "metadata": {
        "id": "view-in-github"
      },
      "source": [
        "<a href=\"https://colab.research.google.com/github/shahparth0007/AdvanceDataScience/blob/main/image_caption_generator_with_cnn_lstm.ipynb\" target=\"_parent\"><img src=\"https://colab.research.google.com/assets/colab-badge.svg\" alt=\"Open In Colab\"/></a>"
      ]
    },
    {
      "cell_type": "code",
      "source": [
        "import os\n",
        "import pickle\n",
        "import numpy as np\n",
        "from tqdm.notebook import tqdm\n",
        "import numpy as np # linear algebra\n",
        "import pandas as pd # data processing, CSV file I/O (e.g. pd.read_csv)\n",
        "import os\n",
        "\n",
        "from tensorflow.keras.applications.vgg19 import VGG19, preprocess_input\n",
        "from tensorflow.keras.preprocessing.image import load_img, img_to_array\n",
        "from tensorflow.keras.preprocessing.text import Tokenizer\n",
        "from tensorflow.keras.preprocessing.sequence import pad_sequences\n",
        "from tensorflow.keras.models import Model\n",
        "from tensorflow.keras.utils import to_categorical, plot_model\n",
        "from tensorflow.keras.layers import Input,GRU, Dense, LSTM, Embedding, Dropout, add\n"
      ],
      "metadata": {
        "execution": {
          "iopub.status.busy": "2022-04-19T23:53:53.229069Z",
          "iopub.execute_input": "2022-04-19T23:53:53.22968Z",
          "iopub.status.idle": "2022-04-19T23:53:58.177507Z",
          "shell.execute_reply.started": "2022-04-19T23:53:53.229627Z",
          "shell.execute_reply": "2022-04-19T23:53:58.176688Z"
        },
        "trusted": true,
        "id": "fM4JHpieji4J"
      },
      "execution_count": 1,
      "outputs": []
    },
    {
      "cell_type": "code",
      "source": [
        "import string\n",
        "import numpy as np\n",
        "import PIL.Image\n",
        "import matplotlib.pyplot as plt\n",
        "\n",
        "\n",
        "from os import listdir\n",
        "from pickle import dump, load\n",
        "\n",
        "from numpy import array\n",
        "from numpy import argmax\n",
        "\n",
        "# from keras.applications.vgg19 import VGG19, preprocess_input\n",
        "\n",
        "# from keras import applications\n",
        "# from keras.applications.inception_v3  import inception_v3 , preprocess_input\n",
        "\n",
        "from keras.applications.vgg16 import VGG16, preprocess_input\n",
        "\n",
        "from keras.preprocessing.image import load_img, img_to_array\n",
        "from keras.preprocessing.text import Tokenizer\n",
        "from keras.preprocessing.sequence import pad_sequences\n",
        "from tensorflow.keras.utils import to_categorical\n",
        "from keras.layers.merge import add\n",
        "from keras.models import Model, load_model\n",
        "# from keras.layers import Input, Dense, LSTM, Embedding, Dropout\n",
        "from keras.layers import Input, Dense, GRU, Embedding, Dropout\n",
        "from keras.callbacks import ModelCheckpoint\n",
        "\n",
        "from nltk.translate.bleu_score import corpus_bleu\n",
        "from tqdm import tqdm_notebook as tqdm"
      ],
      "metadata": {
        "id": "qjQM0jTsgYAc"
      },
      "execution_count": 29,
      "outputs": []
    },
    {
      "cell_type": "code",
      "source": [
        "!gdown --id 1jXH8vzpVy4gAkc-1lrWlwVUNF4w0B0dU\n",
        "!pip install kaggle\n",
        "! mkdir ~/.kaggle\n",
        "! cp kaggle.json ~/.kaggle/\n",
        "! chmod 600 ~/.kaggle/kaggle.json\n",
        "! kaggle datasets download parthshah0007/flickerdataset\n",
        "! unzip -q '/content/flickerdataset.zip' -d '/content/flickr8k/'"
      ],
      "metadata": {
        "id": "HyAqjKs1olWa",
        "colab": {
          "base_uri": "https://localhost:8080/"
        },
        "outputId": "178e4b83-2af9-48f1-db06-e34a5c2c69d3"
      },
      "execution_count": 3,
      "outputs": [
        {
          "output_type": "stream",
          "name": "stdout",
          "text": [
            "/usr/local/lib/python3.7/dist-packages/gdown/cli.py:131: FutureWarning: Option `--id` was deprecated in version 4.3.1 and will be removed in 5.0. You don't need to pass it anymore to use a file ID.\n",
            "  category=FutureWarning,\n",
            "Downloading...\n",
            "From: https://drive.google.com/uc?id=1jXH8vzpVy4gAkc-1lrWlwVUNF4w0B0dU\n",
            "To: /content/kaggle.json\n",
            "100% 69.0/69.0 [00:00<00:00, 97.0kB/s]\n",
            "Requirement already satisfied: kaggle in /usr/local/lib/python3.7/dist-packages (1.5.12)\n",
            "Requirement already satisfied: python-slugify in /usr/local/lib/python3.7/dist-packages (from kaggle) (6.1.1)\n",
            "Requirement already satisfied: six>=1.10 in /usr/local/lib/python3.7/dist-packages (from kaggle) (1.15.0)\n",
            "Requirement already satisfied: python-dateutil in /usr/local/lib/python3.7/dist-packages (from kaggle) (2.8.2)\n",
            "Requirement already satisfied: requests in /usr/local/lib/python3.7/dist-packages (from kaggle) (2.23.0)\n",
            "Requirement already satisfied: urllib3 in /usr/local/lib/python3.7/dist-packages (from kaggle) (1.24.3)\n",
            "Requirement already satisfied: tqdm in /usr/local/lib/python3.7/dist-packages (from kaggle) (4.64.0)\n",
            "Requirement already satisfied: certifi in /usr/local/lib/python3.7/dist-packages (from kaggle) (2021.10.8)\n",
            "Requirement already satisfied: text-unidecode>=1.3 in /usr/local/lib/python3.7/dist-packages (from python-slugify->kaggle) (1.3)\n",
            "Requirement already satisfied: chardet<4,>=3.0.2 in /usr/local/lib/python3.7/dist-packages (from requests->kaggle) (3.0.4)\n",
            "Requirement already satisfied: idna<3,>=2.5 in /usr/local/lib/python3.7/dist-packages (from requests->kaggle) (2.10)\n",
            "Downloading flickerdataset.zip to /content\n",
            " 99% 1.16G/1.17G [00:23<00:00, 46.1MB/s]\n",
            "100% 1.17G/1.17G [00:23<00:00, 53.0MB/s]\n"
          ]
        }
      ]
    },
    {
      "cell_type": "code",
      "source": [
        "BASE_DIR = '/content/flickr8k/FlickerAllData/Data/'\n",
        "WORKING_DIR = '/content/flickr8k/FlickerAllData/'"
      ],
      "metadata": {
        "execution": {
          "iopub.status.busy": "2022-04-19T23:53:58.186662Z",
          "iopub.execute_input": "2022-04-19T23:53:58.18708Z",
          "iopub.status.idle": "2022-04-19T23:53:58.198141Z",
          "shell.execute_reply.started": "2022-04-19T23:53:58.187043Z",
          "shell.execute_reply": "2022-04-19T23:53:58.197156Z"
        },
        "trusted": true,
        "id": "FqxE6nPyji4K"
      },
      "execution_count": 4,
      "outputs": []
    },
    {
      "cell_type": "code",
      "source": [
        "# load vgg19 model\n",
        "model = VGG19()\n",
        "# restructure the model\n",
        "model = Model(inputs=model.inputs, outputs=model.layers[-2].output)\n",
        "# summarize\n",
        "print(model.summary())"
      ],
      "metadata": {
        "execution": {
          "iopub.status.busy": "2022-04-19T22:28:44.433752Z",
          "iopub.execute_input": "2022-04-19T22:28:44.434651Z",
          "iopub.status.idle": "2022-04-19T22:28:51.016823Z",
          "shell.execute_reply.started": "2022-04-19T22:28:44.434611Z",
          "shell.execute_reply": "2022-04-19T22:28:51.016094Z"
        },
        "trusted": true,
        "id": "GQpIkjsrji4K",
        "colab": {
          "base_uri": "https://localhost:8080/"
        },
        "outputId": "fd165477-d9f7-4805-ebbc-467f73044314"
      },
      "execution_count": 5,
      "outputs": [
        {
          "output_type": "stream",
          "name": "stdout",
          "text": [
            "Downloading data from https://storage.googleapis.com/tensorflow/keras-applications/vgg19/vgg19_weights_tf_dim_ordering_tf_kernels.h5\n",
            "574717952/574710816 [==============================] - 14s 0us/step\n",
            "574726144/574710816 [==============================] - 14s 0us/step\n",
            "Model: \"model\"\n",
            "_________________________________________________________________\n",
            " Layer (type)                Output Shape              Param #   \n",
            "=================================================================\n",
            " input_1 (InputLayer)        [(None, 224, 224, 3)]     0         \n",
            "                                                                 \n",
            " block1_conv1 (Conv2D)       (None, 224, 224, 64)      1792      \n",
            "                                                                 \n",
            " block1_conv2 (Conv2D)       (None, 224, 224, 64)      36928     \n",
            "                                                                 \n",
            " block1_pool (MaxPooling2D)  (None, 112, 112, 64)      0         \n",
            "                                                                 \n",
            " block2_conv1 (Conv2D)       (None, 112, 112, 128)     73856     \n",
            "                                                                 \n",
            " block2_conv2 (Conv2D)       (None, 112, 112, 128)     147584    \n",
            "                                                                 \n",
            " block2_pool (MaxPooling2D)  (None, 56, 56, 128)       0         \n",
            "                                                                 \n",
            " block3_conv1 (Conv2D)       (None, 56, 56, 256)       295168    \n",
            "                                                                 \n",
            " block3_conv2 (Conv2D)       (None, 56, 56, 256)       590080    \n",
            "                                                                 \n",
            " block3_conv3 (Conv2D)       (None, 56, 56, 256)       590080    \n",
            "                                                                 \n",
            " block3_conv4 (Conv2D)       (None, 56, 56, 256)       590080    \n",
            "                                                                 \n",
            " block3_pool (MaxPooling2D)  (None, 28, 28, 256)       0         \n",
            "                                                                 \n",
            " block4_conv1 (Conv2D)       (None, 28, 28, 512)       1180160   \n",
            "                                                                 \n",
            " block4_conv2 (Conv2D)       (None, 28, 28, 512)       2359808   \n",
            "                                                                 \n",
            " block4_conv3 (Conv2D)       (None, 28, 28, 512)       2359808   \n",
            "                                                                 \n",
            " block4_conv4 (Conv2D)       (None, 28, 28, 512)       2359808   \n",
            "                                                                 \n",
            " block4_pool (MaxPooling2D)  (None, 14, 14, 512)       0         \n",
            "                                                                 \n",
            " block5_conv1 (Conv2D)       (None, 14, 14, 512)       2359808   \n",
            "                                                                 \n",
            " block5_conv2 (Conv2D)       (None, 14, 14, 512)       2359808   \n",
            "                                                                 \n",
            " block5_conv3 (Conv2D)       (None, 14, 14, 512)       2359808   \n",
            "                                                                 \n",
            " block5_conv4 (Conv2D)       (None, 14, 14, 512)       2359808   \n",
            "                                                                 \n",
            " block5_pool (MaxPooling2D)  (None, 7, 7, 512)         0         \n",
            "                                                                 \n",
            " flatten (Flatten)           (None, 25088)             0         \n",
            "                                                                 \n",
            " fc1 (Dense)                 (None, 4096)              102764544 \n",
            "                                                                 \n",
            " fc2 (Dense)                 (None, 4096)              16781312  \n",
            "                                                                 \n",
            "=================================================================\n",
            "Total params: 139,570,240\n",
            "Trainable params: 139,570,240\n",
            "Non-trainable params: 0\n",
            "_________________________________________________________________\n",
            "None\n"
          ]
        }
      ]
    },
    {
      "cell_type": "code",
      "source": [
        "# # extract features from image\n",
        "\n",
        "# features = {}\n",
        "# directory = os.path.join(BASE_DIR, 'Images')\n",
        "\n",
        "# for img_name in tqdm(os.listdir(directory)):\n",
        "#     # load the image from file\n",
        "#     img_path = directory + '/' + img_name\n",
        "#     image = load_img(img_path, target_size=(224, 224))\n",
        "#     # convert image pixels to numpy array\n",
        "#     image = img_to_array(image)\n",
        "#     # reshape data for model\n",
        "#     image = image.reshape((1, image.shape[0], image.shape[1], image.shape[2]))\n",
        "#     # preprocess image for vgg\n",
        "#     image = preprocess_input(image)\n",
        "#     # extract features\n",
        "#     feature = model.predict(image, verbose=0)\n",
        "#     # get image ID\n",
        "#     image_id = img_name.split('.')[0]\n",
        "#     # store feature\n",
        "#     features[image_id] = feature\n",
        "\n",
        "# # store features in pickle\n",
        "# pickle.dump(features, open(os.path.join(WORKING_DIR, 'features.pkl'), 'wb'))"
      ],
      "metadata": {
        "execution": {
          "iopub.status.busy": "2022-04-19T22:28:54.090966Z",
          "iopub.execute_input": "2022-04-19T22:28:54.091232Z",
          "iopub.status.idle": "2022-04-19T22:36:59.961687Z",
          "shell.execute_reply.started": "2022-04-19T22:28:54.091204Z",
          "shell.execute_reply": "2022-04-19T22:36:59.961014Z"
        },
        "trusted": true,
        "id": "V5YNChB2ji4L"
      },
      "execution_count": null,
      "outputs": []
    },
    {
      "cell_type": "code",
      "source": [
        "# load features from pickle\n",
        "with open(os.path.join(WORKING_DIR, 'features.pkl'), 'rb') as f:\n",
        "    features = pickle.load(f)"
      ],
      "metadata": {
        "execution": {
          "iopub.status.busy": "2022-04-19T23:54:03.947172Z",
          "iopub.execute_input": "2022-04-19T23:54:03.948011Z",
          "iopub.status.idle": "2022-04-19T23:54:04.388607Z",
          "shell.execute_reply.started": "2022-04-19T23:54:03.947968Z",
          "shell.execute_reply": "2022-04-19T23:54:04.38779Z"
        },
        "trusted": true,
        "id": "ByYt3lsUji4L"
      },
      "execution_count": 6,
      "outputs": []
    },
    {
      "cell_type": "code",
      "source": [
        "len(features)"
      ],
      "metadata": {
        "colab": {
          "base_uri": "https://localhost:8080/"
        },
        "id": "Y4vMr3s3s5qe",
        "outputId": "b87e8ea5-fa06-4149-8511-799534e8da4e"
      },
      "execution_count": 7,
      "outputs": [
        {
          "output_type": "execute_result",
          "data": {
            "text/plain": [
              "8091"
            ]
          },
          "metadata": {},
          "execution_count": 7
        }
      ]
    },
    {
      "cell_type": "code",
      "source": [
        "with open(os.path.join(BASE_DIR, 'captions.txt'), 'r') as f:\n",
        "    next(f)\n",
        "    captions_doc = f.read()"
      ],
      "metadata": {
        "execution": {
          "iopub.status.busy": "2022-04-19T23:54:06.213128Z",
          "iopub.execute_input": "2022-04-19T23:54:06.213873Z",
          "iopub.status.idle": "2022-04-19T23:54:06.26308Z",
          "shell.execute_reply.started": "2022-04-19T23:54:06.213824Z",
          "shell.execute_reply": "2022-04-19T23:54:06.26229Z"
        },
        "trusted": true,
        "id": "40Ke-xUZji4L"
      },
      "execution_count": 8,
      "outputs": []
    },
    {
      "cell_type": "code",
      "source": [
        "# create mapping of image to captions\n",
        "mapping = {}\n",
        "# process lines\n",
        "for line in tqdm(captions_doc.split('\\n')):\n",
        "    # split the line by comma(,)\n",
        "    tokens = line.split(',')\n",
        "    if len(line) < 2:\n",
        "        continue\n",
        "    image_id, caption = tokens[0], tokens[1:]\n",
        "    # remove extension from image ID\n",
        "    image_id = image_id.split('.')[0]\n",
        "    # convert caption list to string\n",
        "    caption = \" \".join(caption)\n",
        "    # create list if needed\n",
        "    if image_id not in mapping:\n",
        "        mapping[image_id] = []\n",
        "    # store the caption\n",
        "    mapping[image_id].append(caption)"
      ],
      "metadata": {
        "execution": {
          "iopub.status.busy": "2022-04-19T23:54:22.200081Z",
          "iopub.execute_input": "2022-04-19T23:54:22.2004Z",
          "iopub.status.idle": "2022-04-19T23:54:22.34996Z",
          "shell.execute_reply.started": "2022-04-19T23:54:22.200366Z",
          "shell.execute_reply": "2022-04-19T23:54:22.349241Z"
        },
        "trusted": true,
        "id": "6VCtAQFTji4M",
        "colab": {
          "base_uri": "https://localhost:8080/",
          "height": 101,
          "referenced_widgets": [
            "63fad09685e34b758d4a4b5697713220",
            "8f31f75aa8d14353a757c2da78aeabbd",
            "b4a9b3b38a1b4e07bbaca4f47c8daa3d",
            "750b9d24d28a4cc2bc547eb5b4fb2fa7",
            "00b148b1fb9d480683eaacddc3936b79",
            "1a21931b7b334ac69ab17e6f346081d9",
            "dfdce824d9134d6cb32f7911bf39fc32",
            "5aa0ca02c15b4ba5babc992c0f667576",
            "88ec8a48ae7a4703a6d026bb20dc0dd9",
            "333650ae70004b6fad6d052c631061ff",
            "acad558d8da74763ae26f55f6ef96c9f"
          ]
        },
        "outputId": "c7f7a4cd-d220-4d4b-8a6a-a24c7a8cc7a9"
      },
      "execution_count": 9,
      "outputs": [
        {
          "output_type": "stream",
          "name": "stderr",
          "text": [
            "/usr/local/lib/python3.7/dist-packages/ipykernel_launcher.py:4: TqdmDeprecationWarning: This function will be removed in tqdm==5.0.0\n",
            "Please use `tqdm.notebook.tqdm` instead of `tqdm.tqdm_notebook`\n",
            "  after removing the cwd from sys.path.\n"
          ]
        },
        {
          "output_type": "display_data",
          "data": {
            "text/plain": [
              "  0%|          | 0/40456 [00:00<?, ?it/s]"
            ],
            "application/vnd.jupyter.widget-view+json": {
              "version_major": 2,
              "version_minor": 0,
              "model_id": "63fad09685e34b758d4a4b5697713220"
            }
          },
          "metadata": {}
        }
      ]
    },
    {
      "cell_type": "code",
      "source": [
        "def clean(mapping):\n",
        "    for key, captions in mapping.items():\n",
        "        for i in range(len(captions)):\n",
        "            # take one caption at a time\n",
        "            caption = captions[i]\n",
        "            # preprocessing steps\n",
        "            # convert to lowercase\n",
        "            caption = caption.lower()\n",
        "            # delete digits, special chars, etc., \n",
        "            caption = caption.replace('[^A-Za-z]', '')\n",
        "            # delete additional spaces\n",
        "            caption = caption.replace('\\s+', ' ')\n",
        "            # add start and end tags to the caption\n",
        "            caption = 'startseq ' + \" \".join([word for word in caption.split() if len(word)>1]) + ' endseq'\n",
        "            captions[i] = caption"
      ],
      "metadata": {
        "execution": {
          "iopub.status.busy": "2022-04-19T23:54:44.56188Z",
          "iopub.execute_input": "2022-04-19T23:54:44.564811Z",
          "iopub.status.idle": "2022-04-19T23:54:44.575492Z",
          "shell.execute_reply.started": "2022-04-19T23:54:44.564738Z",
          "shell.execute_reply": "2022-04-19T23:54:44.574598Z"
        },
        "trusted": true,
        "id": "RNGQkZnIji4M"
      },
      "execution_count": 10,
      "outputs": []
    },
    {
      "cell_type": "code",
      "source": [
        "# before preprocess of text\n",
        "mapping['1000268201_693b08cb0e']"
      ],
      "metadata": {
        "execution": {
          "iopub.status.busy": "2022-04-19T23:54:46.251167Z",
          "iopub.execute_input": "2022-04-19T23:54:46.251845Z",
          "iopub.status.idle": "2022-04-19T23:54:46.257714Z",
          "shell.execute_reply.started": "2022-04-19T23:54:46.251801Z",
          "shell.execute_reply": "2022-04-19T23:54:46.256855Z"
        },
        "trusted": true,
        "id": "pEfLK3AZji4M",
        "colab": {
          "base_uri": "https://localhost:8080/"
        },
        "outputId": "883dc4fe-e080-4bd0-e6c9-3cff3a0361f7"
      },
      "execution_count": 11,
      "outputs": [
        {
          "output_type": "execute_result",
          "data": {
            "text/plain": [
              "['A child in a pink dress is climbing up a set of stairs in an entry way .',\n",
              " 'A girl going into a wooden building .',\n",
              " 'A little girl climbing into a wooden playhouse .',\n",
              " 'A little girl climbing the stairs to her playhouse .',\n",
              " 'A little girl in a pink dress going into a wooden cabin .']"
            ]
          },
          "metadata": {},
          "execution_count": 11
        }
      ]
    },
    {
      "cell_type": "code",
      "source": [
        "# preprocess the text\n",
        "clean(mapping)"
      ],
      "metadata": {
        "execution": {
          "iopub.status.busy": "2022-04-19T23:54:49.033891Z",
          "iopub.execute_input": "2022-04-19T23:54:49.034567Z",
          "iopub.status.idle": "2022-04-19T23:54:49.168102Z",
          "shell.execute_reply.started": "2022-04-19T23:54:49.034529Z",
          "shell.execute_reply": "2022-04-19T23:54:49.167274Z"
        },
        "trusted": true,
        "id": "Fv10EdiBji4M"
      },
      "execution_count": 12,
      "outputs": []
    },
    {
      "cell_type": "code",
      "source": [
        "# after preprocess of text\n",
        "mapping['1000268201_693b08cb0e']"
      ],
      "metadata": {
        "execution": {
          "iopub.status.busy": "2022-04-19T23:54:49.98712Z",
          "iopub.execute_input": "2022-04-19T23:54:49.987701Z",
          "iopub.status.idle": "2022-04-19T23:54:49.992774Z",
          "shell.execute_reply.started": "2022-04-19T23:54:49.987659Z",
          "shell.execute_reply": "2022-04-19T23:54:49.992053Z"
        },
        "trusted": true,
        "id": "k8FM4vxrji4N",
        "colab": {
          "base_uri": "https://localhost:8080/"
        },
        "outputId": "6bb94989-813d-4413-ac91-dcbd7e18b7b5"
      },
      "execution_count": 13,
      "outputs": [
        {
          "output_type": "execute_result",
          "data": {
            "text/plain": [
              "['startseq child in pink dress is climbing up set of stairs in an entry way endseq',\n",
              " 'startseq girl going into wooden building endseq',\n",
              " 'startseq little girl climbing into wooden playhouse endseq',\n",
              " 'startseq little girl climbing the stairs to her playhouse endseq',\n",
              " 'startseq little girl in pink dress going into wooden cabin endseq']"
            ]
          },
          "metadata": {},
          "execution_count": 13
        }
      ]
    },
    {
      "cell_type": "code",
      "source": [
        "all_captions = []\n",
        "for key in mapping:\n",
        "    for caption in mapping[key]:\n",
        "        all_captions.append(caption)"
      ],
      "metadata": {
        "execution": {
          "iopub.status.busy": "2022-04-19T23:54:59.778047Z",
          "iopub.execute_input": "2022-04-19T23:54:59.778666Z",
          "iopub.status.idle": "2022-04-19T23:54:59.791296Z",
          "shell.execute_reply.started": "2022-04-19T23:54:59.778625Z",
          "shell.execute_reply": "2022-04-19T23:54:59.790568Z"
        },
        "trusted": true,
        "id": "IW3QaEcdji4N"
      },
      "execution_count": 14,
      "outputs": []
    },
    {
      "cell_type": "code",
      "source": [
        "len(all_captions)"
      ],
      "metadata": {
        "execution": {
          "iopub.status.busy": "2022-04-19T23:55:01.067652Z",
          "iopub.execute_input": "2022-04-19T23:55:01.068338Z",
          "iopub.status.idle": "2022-04-19T23:55:01.075084Z",
          "shell.execute_reply.started": "2022-04-19T23:55:01.068283Z",
          "shell.execute_reply": "2022-04-19T23:55:01.074258Z"
        },
        "trusted": true,
        "id": "Q1eDLQtXji4N",
        "colab": {
          "base_uri": "https://localhost:8080/"
        },
        "outputId": "9ddf9289-20f9-4548-f0c6-919f6c9362b0"
      },
      "execution_count": 15,
      "outputs": [
        {
          "output_type": "execute_result",
          "data": {
            "text/plain": [
              "40455"
            ]
          },
          "metadata": {},
          "execution_count": 15
        }
      ]
    },
    {
      "cell_type": "code",
      "source": [
        "all_captions[1]"
      ],
      "metadata": {
        "execution": {
          "iopub.status.busy": "2022-04-19T23:55:03.452398Z",
          "iopub.execute_input": "2022-04-19T23:55:03.452952Z",
          "iopub.status.idle": "2022-04-19T23:55:03.458499Z",
          "shell.execute_reply.started": "2022-04-19T23:55:03.45291Z",
          "shell.execute_reply": "2022-04-19T23:55:03.457514Z"
        },
        "trusted": true,
        "id": "ekh9jpGoji4N",
        "colab": {
          "base_uri": "https://localhost:8080/",
          "height": 36
        },
        "outputId": "b3618d32-1bce-40e5-f2d3-619d0d0e4427"
      },
      "execution_count": 16,
      "outputs": [
        {
          "output_type": "execute_result",
          "data": {
            "text/plain": [
              "'startseq girl going into wooden building endseq'"
            ],
            "application/vnd.google.colaboratory.intrinsic+json": {
              "type": "string"
            }
          },
          "metadata": {},
          "execution_count": 16
        }
      ]
    },
    {
      "cell_type": "code",
      "source": [
        "# tokenize the text\n",
        "tokenizer = Tokenizer()\n",
        "tokenizer.fit_on_texts(all_captions)\n",
        "vocab_size = len(tokenizer.word_index) + 1"
      ],
      "metadata": {
        "execution": {
          "iopub.status.busy": "2022-04-19T23:55:05.352201Z",
          "iopub.execute_input": "2022-04-19T23:55:05.352986Z",
          "iopub.status.idle": "2022-04-19T23:55:05.975781Z",
          "shell.execute_reply.started": "2022-04-19T23:55:05.352945Z",
          "shell.execute_reply": "2022-04-19T23:55:05.974894Z"
        },
        "trusted": true,
        "id": "cO_ArLh2ji4N"
      },
      "execution_count": 17,
      "outputs": []
    },
    {
      "cell_type": "code",
      "source": [
        "vocab_size"
      ],
      "metadata": {
        "execution": {
          "iopub.status.busy": "2022-04-19T22:42:08.975996Z",
          "iopub.execute_input": "2022-04-19T22:42:08.976248Z",
          "iopub.status.idle": "2022-04-19T22:42:08.983678Z",
          "shell.execute_reply.started": "2022-04-19T22:42:08.976222Z",
          "shell.execute_reply": "2022-04-19T22:42:08.982875Z"
        },
        "trusted": true,
        "id": "4KR5Oxnhji4N",
        "colab": {
          "base_uri": "https://localhost:8080/"
        },
        "outputId": "5692b535-ccfc-4d1a-f19a-99f0ea29d22b"
      },
      "execution_count": 18,
      "outputs": [
        {
          "output_type": "execute_result",
          "data": {
            "text/plain": [
              "8485"
            ]
          },
          "metadata": {},
          "execution_count": 18
        }
      ]
    },
    {
      "cell_type": "code",
      "source": [
        "# get maximum length of the caption available\n",
        "max_length = max(len(caption.split()) for caption in all_captions)\n",
        "max_length"
      ],
      "metadata": {
        "execution": {
          "iopub.status.busy": "2022-04-19T23:55:07.434534Z",
          "iopub.execute_input": "2022-04-19T23:55:07.435076Z",
          "iopub.status.idle": "2022-04-19T23:55:07.47275Z",
          "shell.execute_reply.started": "2022-04-19T23:55:07.435035Z",
          "shell.execute_reply": "2022-04-19T23:55:07.472034Z"
        },
        "trusted": true,
        "id": "w46OSNfVji4O",
        "colab": {
          "base_uri": "https://localhost:8080/"
        },
        "outputId": "baca092c-6435-47c1-bad1-ed9efe634d47"
      },
      "execution_count": 19,
      "outputs": [
        {
          "output_type": "execute_result",
          "data": {
            "text/plain": [
              "35"
            ]
          },
          "metadata": {},
          "execution_count": 19
        }
      ]
    },
    {
      "cell_type": "code",
      "source": [
        "image_ids = list(mapping.keys())\n",
        "split = int(len(image_ids) * 0.90)\n",
        "train = image_ids[:split]\n",
        "test = image_ids[split:]"
      ],
      "metadata": {
        "execution": {
          "iopub.status.busy": "2022-04-19T23:55:09.307981Z",
          "iopub.execute_input": "2022-04-19T23:55:09.308297Z",
          "iopub.status.idle": "2022-04-19T23:55:09.313056Z",
          "shell.execute_reply.started": "2022-04-19T23:55:09.308245Z",
          "shell.execute_reply": "2022-04-19T23:55:09.312328Z"
        },
        "trusted": true,
        "id": "7a0ZTyuBji4O"
      },
      "execution_count": 20,
      "outputs": []
    },
    {
      "cell_type": "code",
      "source": [
        "# create data generator to get data in batch (avoids session crash)\n",
        "\n",
        "def data_generator(data_keys, mapping, features, tokenizer, max_length, vocab_size, batch_size):\n",
        "    # loop over images\n",
        "    X1, X2, y = list(), list(), list()\n",
        "    n = 0\n",
        "    while 1:\n",
        "        for key in data_keys:\n",
        "            n += 1\n",
        "            captions = mapping[key]\n",
        "            # process each caption\n",
        "            for caption in captions:\n",
        "                # encode the sequence\n",
        "                seq = tokenizer.texts_to_sequences([caption])[0]\n",
        "                # split the sequence into X, y pairs\n",
        "                for i in range(1, len(seq)):\n",
        "                    # split into input and output pairs\n",
        "                    in_seq, out_seq = seq[:i], seq[i]\n",
        "                    # pad input sequence\n",
        "                    in_seq = pad_sequences([in_seq], maxlen=max_length)[0]\n",
        "                    # encode output sequence\n",
        "                    out_seq = to_categorical([out_seq], num_classes=vocab_size)[0]\n",
        "                    \n",
        "                    # store the sequences\n",
        "                    X1.append(features[key][0])\n",
        "                    X2.append(in_seq)\n",
        "                    y.append(out_seq)\n",
        "            if n == batch_size:\n",
        "                X1, X2, y = np.array(X1), np.array(X2), np.array(y)\n",
        "                yield [X1, X2], y\n",
        "                X1, X2, y = list(), list(), list()\n",
        "                n = 0"
      ],
      "metadata": {
        "execution": {
          "iopub.status.busy": "2022-04-19T23:55:15.141974Z",
          "iopub.execute_input": "2022-04-19T23:55:15.142279Z",
          "iopub.status.idle": "2022-04-19T23:55:15.151636Z",
          "shell.execute_reply.started": "2022-04-19T23:55:15.142233Z",
          "shell.execute_reply": "2022-04-19T23:55:15.150684Z"
        },
        "trusted": true,
        "id": "Iub_deu8ji4O"
      },
      "execution_count": 21,
      "outputs": []
    },
    {
      "cell_type": "code",
      "source": [
        "# encoder model\n",
        "# image feature layers\n",
        "inputs1 = Input(shape=(4096,))\n",
        "fe1 = Dropout(0.4)(inputs1)\n",
        "fe2 = Dense(256, activation='relu')(fe1)\n",
        "# sequence feature layers\n",
        "inputs2 = Input(shape=(max_length,))\n",
        "se1 = Embedding(vocab_size, 256, mask_zero=True)(inputs2)\n",
        "se2 = Dropout(0.4)(se1)\n",
        "se3 = GRU(256)(se2)\n",
        "\n",
        "# decoder model\n",
        "decoder1 = add([fe2, se3])\n",
        "decoder2 = Dense(256, activation='relu')(decoder1)\n",
        "outputs = Dense(vocab_size, activation='softmax')(decoder2)\n",
        "\n",
        "model = Model(inputs=[inputs1, inputs2], outputs=outputs)\n",
        "model.compile(loss='categorical_crossentropy', optimizer='Adam')\n",
        "\n",
        "# plot the model\n",
        "plot_model(model, show_shapes=True)"
      ],
      "metadata": {
        "execution": {
          "iopub.status.busy": "2022-04-19T23:55:22.268102Z",
          "iopub.execute_input": "2022-04-19T23:55:22.268887Z",
          "iopub.status.idle": "2022-04-19T23:55:26.166997Z",
          "shell.execute_reply.started": "2022-04-19T23:55:22.26885Z",
          "shell.execute_reply": "2022-04-19T23:55:26.166159Z"
        },
        "trusted": true,
        "id": "ecmbRNnTji4O",
        "colab": {
          "base_uri": "https://localhost:8080/",
          "height": 754
        },
        "outputId": "4ab01b4b-fc9e-452b-cb9e-dc2bf900906a"
      },
      "execution_count": 22,
      "outputs": [
        {
          "output_type": "execute_result",
          "data": {
            "text/plain": [
              "<IPython.core.display.Image object>"
            ],
            "image/png": "[encoded data removed]"
          },
          "metadata": {},
          "execution_count": 22
        }
      ]
    },
    {
      "cell_type": "code",
      "source": [
        "# train the model\n",
        "epochs = 25\n",
        "batch_size = 32\n",
        "steps = len(train) // batch_size\n",
        "history_loss = []\n",
        "\n",
        "for i in range(epochs):\n",
        "    # create data generator\n",
        "    generator = data_generator(train, mapping, features, tokenizer, max_length, vocab_size, batch_size)\n",
        "    # fit for one epoch\n",
        "    history=model.fit(generator, epochs=1, steps_per_epoch=steps, verbose=1)\n",
        "    history_loss.append(history.history['loss'])\n",
        "\n",
        "# save the model\n",
        "model.save(WORKING_DIR+'/best_model_parameters.h5')"
      ],
      "metadata": {
        "execution": {
          "iopub.status.busy": "2022-04-19T23:55:33.15681Z",
          "iopub.execute_input": "2022-04-19T23:55:33.157494Z",
          "iopub.status.idle": "2022-04-20T00:13:44.044743Z",
          "shell.execute_reply.started": "2022-04-19T23:55:33.157447Z",
          "shell.execute_reply": "2022-04-20T00:13:44.043733Z"
        },
        "trusted": true,
        "id": "D8UJ9qjXji4P",
        "colab": {
          "base_uri": "https://localhost:8080/"
        },
        "outputId": "fcc4ab2d-0e80-410a-a56f-eccb92ad8b8d"
      },
      "execution_count": 23,
      "outputs": [
        {
          "output_type": "stream",
          "name": "stdout",
          "text": [
            "227/227 [==============================] - 95s 393ms/step - loss: 5.0691\n",
            "227/227 [==============================] - 89s 392ms/step - loss: 3.8621\n",
            "227/227 [==============================] - 89s 393ms/step - loss: 3.4542\n",
            "227/227 [==============================] - 88s 387ms/step - loss: 3.1968\n",
            "227/227 [==============================] - 89s 392ms/step - loss: 3.0067\n",
            "227/227 [==============================] - 89s 391ms/step - loss: 2.8639\n",
            "227/227 [==============================] - 89s 391ms/step - loss: 2.7572\n",
            "227/227 [==============================] - 89s 393ms/step - loss: 2.6668\n",
            "227/227 [==============================] - 89s 394ms/step - loss: 2.5897\n",
            "227/227 [==============================] - 89s 392ms/step - loss: 2.5203\n",
            "227/227 [==============================] - 89s 391ms/step - loss: 2.4552\n",
            "227/227 [==============================] - 89s 394ms/step - loss: 2.3999\n",
            "227/227 [==============================] - 88s 387ms/step - loss: 2.3499\n",
            "227/227 [==============================] - 89s 393ms/step - loss: 2.3032\n",
            "227/227 [==============================] - 88s 386ms/step - loss: 2.2649\n",
            "227/227 [==============================] - 89s 391ms/step - loss: 2.2217\n",
            "227/227 [==============================] - 88s 387ms/step - loss: 2.1870\n",
            "227/227 [==============================] - 89s 391ms/step - loss: 2.1515\n",
            "227/227 [==============================] - 88s 389ms/step - loss: 2.1215\n",
            "227/227 [==============================] - 88s 388ms/step - loss: 2.0944\n",
            "227/227 [==============================] - 88s 387ms/step - loss: 2.0683\n",
            "227/227 [==============================] - 88s 386ms/step - loss: 2.0451\n",
            "227/227 [==============================] - 88s 387ms/step - loss: 2.0249\n",
            "227/227 [==============================] - 88s 388ms/step - loss: 2.0049\n",
            "227/227 [==============================] - 88s 386ms/step - loss: 1.9819\n"
          ]
        }
      ]
    },
    {
      "cell_type": "code",
      "source": [
        "import matplotlib.pyplot as plt\n",
        "\n",
        "error = pd.DataFrame(history_loss)\n",
        "\n",
        "error.to_csv('Loss_Adam.csv')\n",
        "\n",
        "\n",
        "\n",
        "plt.plot(history_loss)\n",
        "\n",
        "plt.xticks([i for i in range(0, 26)])\n",
        "\n",
        "plt.title('Model Loss vs Epoch')\n",
        "\n",
        "plt.ylabel('Loss')\n",
        "\n",
        "plt.xlabel('Epoch')\n",
        "\n",
        "plt.legend(['training loss'], loc='upper left')\n",
        "\n",
        "plt.show()"
      ],
      "metadata": {
        "colab": {
          "base_uri": "https://localhost:8080/",
          "height": 295
        },
        "id": "InXdQSRPkjgX",
        "outputId": "aa5facaf-9bf1-48a4-d488-ea00b2dec836"
      },
      "execution_count": 24,
      "outputs": [
        {
          "output_type": "display_data",
          "data": {
            "text/plain": [
              "<Figure size 432x288 with 1 Axes>"
            ],
            "image/png": "[encoded data removed]"
          },
          "metadata": {
            "needs_background": "light"
          }
        }
      ]
    },
    {
      "cell_type": "code",
      "source": [
        "plt.plot(history_loss)\n",
        "plt.xticks([i for i in range(0, 26)])\n",
        "plt.title('Model Loss vs Epoch')\n",
        "plt.ylabel('Loss')\n",
        "plt.xlabel('Epoch')\n",
        "plt.legend(['training loss'], loc='upper left')\n",
        "plt.show()"
      ],
      "metadata": {
        "colab": {
          "base_uri": "https://localhost:8080/",
          "height": 295
        },
        "id": "jdrzjQ_xkHHU",
        "outputId": "525abc7d-b49b-4464-fc50-039683544b3c"
      },
      "execution_count": 25,
      "outputs": [
        {
          "output_type": "display_data",
          "data": {
            "text/plain": [
              "<Figure size 432x288 with 1 Axes>"
            ],
            "image/png": "[encoded data removed]"
          },
          "metadata": {
            "needs_background": "light"
          }
        }
      ]
    },
    {
      "cell_type": "code",
      "source": [
        "from tensorflow import keras\n",
        "model = keras.models.load_model('/content/best_model_parameters.h5')\n",
        "print(model)"
      ],
      "metadata": {
        "colab": {
          "base_uri": "https://localhost:8080/"
        },
        "id": "BYIHnNPIzkmI",
        "outputId": "5740998a-7d65-4c6e-c330-37cc11ea5272"
      },
      "execution_count": 23,
      "outputs": [
        {
          "output_type": "stream",
          "name": "stdout",
          "text": [
            "<keras.engine.functional.Functional object at 0x7f8dbf5d3310>\n"
          ]
        }
      ]
    },
    {
      "cell_type": "code",
      "source": [
        "def idx_to_word(integer, tokenizer):\n",
        "    for word, index in tokenizer.word_index.items():\n",
        "        if index == integer:\n",
        "            return word\n",
        "    return None"
      ],
      "metadata": {
        "execution": {
          "iopub.status.busy": "2022-04-20T00:16:30.380471Z",
          "iopub.execute_input": "2022-04-20T00:16:30.381063Z",
          "iopub.status.idle": "2022-04-20T00:16:30.386917Z",
          "shell.execute_reply.started": "2022-04-20T00:16:30.381021Z",
          "shell.execute_reply": "2022-04-20T00:16:30.38566Z"
        },
        "trusted": true,
        "id": "igcv_4x0ji4P"
      },
      "execution_count": 24,
      "outputs": []
    },
    {
      "cell_type": "code",
      "source": [
        "# generate caption for an image\n",
        "def predict_caption(model, image, tokenizer, max_length):\n",
        "    # add start tag for generation process\n",
        "    in_text = 'startseq'\n",
        "    # iterate over the max length of sequence\n",
        "    for i in range(max_length):\n",
        "        # encode input sequence\n",
        "        sequence = tokenizer.texts_to_sequences([in_text])[0]\n",
        "        # pad the sequence\n",
        "        sequence = pad_sequences([sequence], max_length)\n",
        "        # predict next word\n",
        "        yhat = model.predict([image, sequence], verbose=0)\n",
        "        # get index with high probability\n",
        "        yhat = np.argmax(yhat)\n",
        "        # convert index to word\n",
        "        word = idx_to_word(yhat, tokenizer)\n",
        "        # stop if word not found\n",
        "        if word is None:\n",
        "            break\n",
        "        # append word as input for generating next word\n",
        "        in_text += \" \" + word\n",
        "        # stop if we reach end tag\n",
        "        if word == 'endseq':\n",
        "            break\n",
        "      \n",
        "    return in_text"
      ],
      "metadata": {
        "execution": {
          "iopub.status.busy": "2022-04-20T00:16:32.224623Z",
          "iopub.execute_input": "2022-04-20T00:16:32.225132Z",
          "iopub.status.idle": "2022-04-20T00:16:32.231966Z",
          "shell.execute_reply.started": "2022-04-20T00:16:32.225092Z",
          "shell.execute_reply": "2022-04-20T00:16:32.230943Z"
        },
        "trusted": true,
        "id": "ZQybiSBSji4P"
      },
      "execution_count": 25,
      "outputs": []
    },
    {
      "cell_type": "code",
      "source": [
        "from nltk.translate.bleu_score import corpus_bleu\n",
        "# validate with test data\n",
        "actual, predicted = list(), list()\n",
        "\n",
        "for key in tqdm(test):\n",
        "    # get actual caption\n",
        "    captions = mapping[key]\n",
        "    # predict the caption for image\n",
        "    y_pred = predict_caption(model, features[key], tokenizer, max_length) \n",
        "    # split into words\n",
        "    actual_captions = [caption.split() for caption in captions]\n",
        "    y_pred = y_pred.split()\n",
        "    # append to the list\n",
        "    actual.append(actual_captions)\n",
        "    predicted.append(y_pred)\n",
        "    \n",
        "# calcuate BLEU score\n",
        "print(\"BLEU-1: %f\" % corpus_bleu(actual, predicted, weights=(1.0, 0, 0, 0)))\n",
        "print(\"BLEU-2: %f\" % corpus_bleu(actual, predicted, weights=(0.5, 0.5, 0, 0)))"
      ],
      "metadata": {
        "execution": {
          "iopub.status.busy": "2022-04-20T00:16:34.302084Z",
          "iopub.execute_input": "2022-04-20T00:16:34.302947Z",
          "iopub.status.idle": "2022-04-20T00:16:52.228445Z",
          "shell.execute_reply.started": "2022-04-20T00:16:34.302892Z",
          "shell.execute_reply": "2022-04-20T00:16:52.227339Z"
        },
        "trusted": true,
        "id": "WcpfqJW-ji4P",
        "colab": {
          "base_uri": "https://localhost:8080/",
          "height": 136,
          "referenced_widgets": [
            "1685a275851542fe842664977d3d18be",
            "7eece30da33c463da028a82d632747ae",
            "b2bef422f9094d9bb372080e4b46e73c",
            "d0f259d7b4a7460e9b09a83f36630e3a",
            "abb7a440c73b4ef8b9680531ea3bee87",
            "59494db655be4eee9303672dd1d55b98",
            "a765bfd563fd433f83a01a045af0312e",
            "b8cceac754cb4dca831665ef3eb6c0b1",
            "a079eca0d98d4bac8904aeeddadee0f3",
            "09484e672bac46c3b184f038226085ba",
            "430c7f49e92c43b88887d9a00dffeddf"
          ]
        },
        "outputId": "921c7cd2-44a8-41d6-f00a-b4b9bb56b661"
      },
      "execution_count": 26,
      "outputs": [
        {
          "output_type": "stream",
          "name": "stderr",
          "text": [
            "/usr/local/lib/python3.7/dist-packages/ipykernel_launcher.py:5: TqdmDeprecationWarning: This function will be removed in tqdm==5.0.0\n",
            "Please use `tqdm.notebook.tqdm` instead of `tqdm.tqdm_notebook`\n",
            "  \"\"\"\n"
          ]
        },
        {
          "output_type": "display_data",
          "data": {
            "text/plain": [
              "  0%|          | 0/810 [00:00<?, ?it/s]"
            ],
            "application/vnd.jupyter.widget-view+json": {
              "version_major": 2,
              "version_minor": 0,
              "model_id": "1685a275851542fe842664977d3d18be"
            }
          },
          "metadata": {}
        },
        {
          "output_type": "stream",
          "name": "stdout",
          "text": [
            "BLEU-1: 0.541307\n",
            "BLEU-2: 0.311769\n"
          ]
        }
      ]
    },
    {
      "cell_type": "code",
      "source": [
        "bleu_tracking = []\n",
        "\n",
        "bleu_tracking.append(corpus_bleu(actual, predicted, weights=(1.0, 0, 0, 0)))\n",
        "\n",
        "bleu_tracking.append(corpus_bleu(actual, predicted, weights=(0.5, 0.5, 0, 0)))\n",
        "\n",
        "bleu_tracking.append(corpus_bleu(actual, predicted, weights=(0.33, 0.33, 0.33, 0)))\n",
        "\n",
        "bleu_tracking.append(corpus_bleu(actual, predicted, weights=(0.25, 0.25, 0.25, 0.25)))"
      ],
      "metadata": {
        "id": "nzrApn7__iCP"
      },
      "execution_count": 27,
      "outputs": []
    },
    {
      "cell_type": "code",
      "source": [
        "bleu = pd.DataFrame(bleu_tracking)\n",
        "\n",
        "bleu.to_csv('BLEU_FOR_ADAM_GRU.csv')\n",
        "\n",
        "fig = plt.figure()\n",
        "\n",
        "ax = fig.add_axes([0,0,1,1])\n",
        "\n",
        "langs = ['Bleu-1', 'Bleu-2','Bleu-3','Bleu-4']\n",
        "\n",
        "ax.bar(langs,bleu_tracking)\n",
        "\n",
        "plt.show()"
      ],
      "metadata": {
        "colab": {
          "base_uri": "https://localhost:8080/",
          "height": 336
        },
        "id": "KlRN4bTd_mQy",
        "outputId": "bcd307d9-b295-429b-a9a4-b9091ff76b4e"
      },
      "execution_count": 30,
      "outputs": [
        {
          "output_type": "display_data",
          "data": {
            "text/plain": [
              "<Figure size 432x288 with 1 Axes>"
            ],
            "image/png": "[encoded data removed]"
          },
          "metadata": {
            "needs_background": "light"
          }
        }
      ]
    },
    {
      "cell_type": "code",
      "source": [
        "predicted[1]"
      ],
      "metadata": {
        "execution": {
          "iopub.status.busy": "2022-04-19T23:30:36.625967Z",
          "iopub.execute_input": "2022-04-19T23:30:36.626601Z",
          "iopub.status.idle": "2022-04-19T23:30:36.632519Z",
          "shell.execute_reply.started": "2022-04-19T23:30:36.62656Z",
          "shell.execute_reply": "2022-04-19T23:30:36.631651Z"
        },
        "trusted": true,
        "id": "dRBGJBgvji4P",
        "colab": {
          "base_uri": "https://localhost:8080/"
        },
        "outputId": "dbb8d55d-07b8-4dd3-dcd9-0fe54da1e7b1"
      },
      "execution_count": 31,
      "outputs": [
        {
          "output_type": "execute_result",
          "data": {
            "text/plain": [
              "['startseq', 'dog', 'is', 'digging', 'in', 'the', 'air', 'endseq']"
            ]
          },
          "metadata": {},
          "execution_count": 31
        }
      ]
    },
    {
      "cell_type": "code",
      "source": [
        "actual[1]"
      ],
      "metadata": {
        "execution": {
          "iopub.status.busy": "2022-04-19T23:30:38.944445Z",
          "iopub.execute_input": "2022-04-19T23:30:38.944806Z",
          "iopub.status.idle": "2022-04-19T23:30:38.950708Z",
          "shell.execute_reply.started": "2022-04-19T23:30:38.944771Z",
          "shell.execute_reply": "2022-04-19T23:30:38.950018Z"
        },
        "trusted": true,
        "id": "6FLH-mAeji4Q",
        "colab": {
          "base_uri": "https://localhost:8080/"
        },
        "outputId": "1b5ed87c-c58d-456a-9e69-9c42b7dbe506"
      },
      "execution_count": 32,
      "outputs": [
        {
          "output_type": "execute_result",
          "data": {
            "text/plain": [
              "[['startseq',\n",
              "  'brown',\n",
              "  'doberman',\n",
              "  'is',\n",
              "  'outside',\n",
              "  'with',\n",
              "  'stick',\n",
              "  'in',\n",
              "  'its',\n",
              "  'mouth',\n",
              "  'endseq'],\n",
              " ['startseq', 'brown', 'dog', 'shows', 'his', 'teeth', 'endseq'],\n",
              " ['startseq', 'dog', 'bites', 'stick', 'endseq'],\n",
              " ['startseq', 'dog', 'is', 'biting', 'twig', 'endseq'],\n",
              " ['startseq',\n",
              "  'dog',\n",
              "  'with',\n",
              "  'sharp',\n",
              "  'teeth',\n",
              "  'is',\n",
              "  'chewing',\n",
              "  'on',\n",
              "  'stick',\n",
              "  'outside',\n",
              "  'endseq']]"
            ]
          },
          "metadata": {},
          "execution_count": 32
        }
      ]
    },
    {
      "cell_type": "code",
      "source": [
        "from PIL import Image\n",
        "import matplotlib.pyplot as plt\n",
        "def generate_caption(image_name):\n",
        "    # load the image\n",
        "    # image_name = \"1001773457_577c3a7d70.jpg\"\n",
        "    image_id = image_name.split('.')[0]\n",
        "    img_path = os.path.join(BASE_DIR, \"Images\", image_name)\n",
        "    image = Image.open(img_path)\n",
        "    captions = mapping[image_id]\n",
        "    print('---------------------Actual---------------------')\n",
        "    for caption in captions:\n",
        "        print(caption)\n",
        "    # predict the caption\n",
        "    y_pred = predict_caption(model, features[image_id], tokenizer, max_length)\n",
        "    print('--------------------Predicted--------------------')\n",
        "    print(y_pred)\n",
        "    plt.imshow(image)"
      ],
      "metadata": {
        "execution": {
          "iopub.status.busy": "2022-04-19T23:30:43.30741Z",
          "iopub.execute_input": "2022-04-19T23:30:43.307669Z",
          "iopub.status.idle": "2022-04-19T23:30:43.314032Z",
          "shell.execute_reply.started": "2022-04-19T23:30:43.307642Z",
          "shell.execute_reply": "2022-04-19T23:30:43.313345Z"
        },
        "trusted": true,
        "id": "kspUaEeeji4Q"
      },
      "execution_count": 33,
      "outputs": []
    },
    {
      "cell_type": "code",
      "source": [
        "generate_caption(\"1002674143_1b742ab4b8.jpg\")"
      ],
      "metadata": {
        "execution": {
          "iopub.status.busy": "2022-04-19T23:30:47.907923Z",
          "iopub.execute_input": "2022-04-19T23:30:47.910196Z",
          "iopub.status.idle": "2022-04-19T23:30:48.777641Z",
          "shell.execute_reply.started": "2022-04-19T23:30:47.910161Z",
          "shell.execute_reply": "2022-04-19T23:30:48.776939Z"
        },
        "trusted": true,
        "id": "LDmB-YsZji4Q",
        "colab": {
          "base_uri": "https://localhost:8080/",
          "height": 407
        },
        "outputId": "b81a5916-65fe-4620-9b1c-184bad1e0d65"
      },
      "execution_count": 34,
      "outputs": [
        {
          "output_type": "stream",
          "name": "stdout",
          "text": [
            "---------------------Actual---------------------\n",
            "startseq little girl covered in paint sits in front of painted rainbow with her hands in bowl endseq\n",
            "startseq little girl is sitting in front of large painted rainbow endseq\n",
            "startseq small girl in the grass plays with fingerpaints in front of white canvas with rainbow on it endseq\n",
            "startseq there is girl with pigtails sitting in front of rainbow painting endseq\n",
            "startseq young girl with pigtails painting outside in the grass endseq\n",
            "--------------------Predicted--------------------\n",
            "startseq little girl is sitting on painted swing with fingerpaints in the background endseq\n"
          ]
        },
        {
          "output_type": "display_data",
          "data": {
            "text/plain": [
              "<Figure size 432x288 with 1 Axes>"
            ],
            "image/png": "[encoded data removed]"
          },
          "metadata": {
            "needs_background": "light"
          }
        }
      ]
    }
  ]
}